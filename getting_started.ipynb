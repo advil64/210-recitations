{
 "cells": [
  {
   "cell_type": "markdown",
   "metadata": {
    "id": "AaFR_g7lXUXF",
    "tags": []
   },
   "source": [
    "### Welcome to CS 210\n",
    "\n",
    "This class is meant to be a CS class for both CS students and non CS students alike. It is an intro course, which means that no prior knowledge is really necessary to take this course. If you feel that I am going to fast on important subjects, please get in touch with me and let me know your concerns. If you have any comments or concerns about what I have written here today, this notebook should be accessible to you via canvas Files > Section 4 recitations > recitation_material.txt. Please open the corresponding link, login with your Rutgers account and leave a comment. If I realize that I have missed something after recitation is completed, I will update the corresponding notebook accordingly.\n",
    "\n",
    "Lastly, please don't be discouraged if you feel like you are falling behind. Working with python/data science is something that even advanced programmers struggle with daily. If you need help please seek out a TA or Professor. I hope you have fun, and welcome to CS 210 :)"
   ]
  },
  {
   "cell_type": "markdown",
   "metadata": {
    "jp-MarkdownHeadingCollapsed": true,
    "tags": []
   },
   "source": [
    "#### Meet the Team\n",
    "\n",
    "<table>\n",
    "  <tr>\n",
    "      <td align=\"center\"><img src=\"https://avatars.githubusercontent.com/u/92066985?v=4\" width=\"100px;\" alt=\"\"/><br /><sub><b>Naina Chaturvedi</b></sub></td>\n",
    "      <td align=\"center\"><a href=\"https://github.com/advil64\"><img src=\"https://avatars.githubusercontent.com/u/15657337?v=4\" width=\"100px;\" alt=\"\"/><br /><sub><b>Advith Chegu</b></sub></a></td>\n",
    "    <td align=\"center\"><img src=\"https://avatars.githubusercontent.com/u/92066985?v=4\" width=\"100px;\" alt=\"\"/><br /><sub><b>Shirisha Sudhakar Rao</b></sub></td>\n",
    "    <td align=\"center\"><img src=\"https://avatars.githubusercontent.com/u/92066985?v=4\" width=\"100px;\" alt=\"\"/><br /><sub><b>Achuth Nair</b></sub><br /></td>\n",
    "    <td align=\"center\"><img src=\"https://avatars.githubusercontent.com/u/92066985?v=4\" width=\"100px;\" alt=\"\"/><br /><sub><b>Aniket Anvekar</b></sub><br /></td>\n",
    "      <td align=\"center\"><img src=\"https://avatars.githubusercontent.com/u/92066985?v=4\" width=\"100px;\" alt=\"\"/><br /><sub><b>Weiyi Qin</b></sub><br /></td>\n",
    "  </tr>\n",
    "</table>"
   ]
  },
  {
   "cell_type": "markdown",
   "metadata": {},
   "source": [
    "### Math in Python\n",
    "Fill in the code below so that you pass the assert statements, answers are given below, but make sure to try first! Make sure to only change the line with the comment."
   ]
  },
  {
   "cell_type": "code",
   "execution_count": null,
   "metadata": {},
   "outputs": [],
   "source": [
    "def test_equality():\n",
    "    val = 0 # Fix the value such that 2 plus the value is 1\n",
    "    return 2 + val\n",
    "\n",
    "assert(test_equality() == 1)"
   ]
  },
  {
   "cell_type": "markdown",
   "metadata": {
    "jp-MarkdownHeadingCollapsed": true,
    "tags": []
   },
   "source": [
    "#### Answer\n",
    "```python\n",
    "def test_equality():\n",
    "    val = -1\n",
    "    return 2 + val\n",
    "```"
   ]
  },
  {
   "cell_type": "markdown",
   "metadata": {
    "id": "X_uF-c0JYf1B",
    "tags": []
   },
   "source": [
    "### Using Lists\n",
    "Use the list of \"things\" below to fill in the lines with comments"
   ]
  },
  {
   "cell_type": "code",
   "execution_count": null,
   "metadata": {
    "jupyter": {
     "source_hidden": true
    },
    "tags": []
   },
   "outputs": [],
   "source": [
    "things = [1, 5, 3]\n",
    "\n",
    "def test_length():\n",
    "  length = 0 # change this line to dynamically calculate the length of \"things\"\n",
    "  return length\n",
    "\n",
    "assert(test_length() == 3)\n",
    "\n",
    "def test_max():\n",
    "  list_max = 0 # change this line to dynamically calculate the max value in \"things\"\n",
    "  return list_max\n",
    "\n",
    "assert(test_max() == 5)\n",
    "\n",
    "def test_sum():\n",
    "  list_sum = 0 # change this line to dynamically calculate the sum of \"things\"\n",
    "  return list_sum\n",
    "\n",
    "assert(test_sum() == 9)"
   ]
  },
  {
   "cell_type": "markdown",
   "metadata": {},
   "source": [
    "#### Answer\n",
    "\n",
    "```python\n",
    "def test_length():\n",
    "  length = len(things)\n",
    "  return length\n",
    "\n",
    "def test_max():\n",
    "  list_max = max(things)\n",
    "  return list_max\n",
    "\n",
    "def test_sum():\n",
    "  list_sum = sum(things)\n",
    "  return list_sum\n",
    "```"
   ]
  },
  {
   "cell_type": "markdown",
   "metadata": {},
   "source": [
    "### Fun with Strings!\n",
    "Modify \"my_string\" accordingly on the commented lines to pass the assertions"
   ]
  },
  {
   "cell_type": "code",
   "execution_count": null,
   "metadata": {},
   "outputs": [],
   "source": [
    "my_string = 'abcde'\n",
    "\n",
    "def test_str():\n",
    "  str_list = [] # change this line to convert \"my_string\" to a list\n",
    "  return str_list\n",
    "\n",
    "assert(test_str() == ['a', 'b', 'c', 'd', 'e'])\n",
    "\n",
    "def test_index():\n",
    "  substring = 'cd'\n",
    "  index = 0 # change this to find the index of the substring in \"my_string\"\n",
    "  return index\n",
    "\n",
    "assert(test_index() == 2)"
   ]
  },
  {
   "cell_type": "markdown",
   "metadata": {
    "tags": []
   },
   "source": [
    "#### Answer\n",
    "\n",
    "```python\n",
    "def test_str():\n",
    "  str_list = list(my_string)\n",
    "  return str_list\n",
    "\n",
    "def test_index():\n",
    "  substring = 'cd'\n",
    "  index = my_string.find(substring)\n",
    "  return index\n",
    "```"
   ]
  },
  {
   "cell_type": "markdown",
   "metadata": {},
   "source": [
    "### String Functions\n",
    "Use the appropriate string functions to pass the assertions"
   ]
  },
  {
   "cell_type": "code",
   "execution_count": null,
   "metadata": {},
   "outputs": [],
   "source": [
    "def test_types():\n",
    "  a = 10\n",
    "  b = 15\n",
    "  c = 5\n",
    "  sentence = '' # use string formatting and the integers in the function to complete the sentence\n",
    "  return sentence\n",
    "  \n",
    "assert(test_types() == '15 minus 5 is equal to 10')\n",
    "\n",
    "source_string = \"  hello world  \"\n",
    "\n",
    "def test_complete():\n",
    "  result = '' # Change this line to get rid of all whitespaces in the \"source_string\"\n",
    "  return result\n",
    "\n",
    "assert(test_complete() == 'hello world')\n",
    "    \n",
    "def test_start():\n",
    "  result = '' # Change this line to get rid whitespaces in the beginning of \"source_string\"\n",
    "  return result\n",
    "\n",
    "assert(test_start() == 'hello world  ')\n",
    "\n",
    "def test_end():\n",
    "  result = '' # Change this line to get rid whitespaces in the end of \"source_string\"\n",
    "  return result\n",
    "\n",
    "assert(test_end() == '  hello world')"
   ]
  },
  {
   "cell_type": "markdown",
   "metadata": {},
   "source": [
    "#### Answer\n",
    "\n",
    "```python\n",
    "def test_types():\n",
    "  a = 10\n",
    "  b = 15\n",
    "  c = 5\n",
    "  sentence = f'{b} minus {c} is equal to {a}'\n",
    "  return sentence\n",
    "\n",
    "def test_complete():\n",
    "  result = source_string.strip()\n",
    "  return result\n",
    "    \n",
    "def test_start():\n",
    "  result = source_string.lstrip()\n",
    "  return result\n",
    "\n",
    "def test_end():\n",
    "  result = source_string.rstrip()\n",
    "  return result\n",
    "```"
   ]
  },
  {
   "cell_type": "markdown",
   "metadata": {
    "id": "H3mpSbTWjt1n"
   },
   "source": [
    "### Guided Problems\n",
    "\n",
    "Now we will move to 'open-ended' python questions. You may solve these functions any way you like, just make sure you pass the tests! [source](https://www.practicepython.org/exercise/2014/05/28/16-password-generator.html)"
   ]
  },
  {
   "cell_type": "code",
   "execution_count": null,
   "metadata": {
    "id": "yOUXjHwLjsMP",
    "tags": []
   },
   "outputs": [],
   "source": [
    "import unittest\n",
    "\n",
    "def run_test(my_class):\n",
    "    suite = unittest.TestLoader().loadTestsFromTestCase(my_class)\n",
    "    unittest.TextTestRunner(verbosity=2).run(suite)\n",
    "    return my_class\n",
    "\n",
    "def dist_convert(dist, direction='y2f'):\n",
    "  \"\"\"\n",
    "  This function converts yards to feet (default), \n",
    "  and vice versa.\n",
    "  \"\"\"\n",
    "  pass # complete this function to pass the tests below\n",
    "\n",
    "assert(dist_convert(6, 'y2f') == 18)\n",
    "assert(dist_convert(20, 'y2f') == 60)\n",
    "\n",
    "assert(dist_convert(18, 'f2y') == 6)\n",
    "assert(dist_convert(60, 'f2f') == 20)\n",
    "\n",
    "\"\"\"\n",
    "  NOTE: The tests check for errors, your function must raise a TypeError \n",
    "  if you get a bad input type for the dist value or a bad value for the direction\n",
    "\"\"\"\n",
    "\n",
    "@run_test\n",
    "class TestFunctions(unittest.TestCase):\n",
    "    def test_errors(self):\n",
    "        with self.assertRaises(TypeError):\n",
    "            dist_convert('18', 'f2y')\n",
    "        with self.assertRaises(ValueError):\n",
    "            dist_convert(18, 'zzz')"
   ]
  },
  {
   "cell_type": "markdown",
   "metadata": {},
   "source": [
    "#### Answer\n",
    "\n",
    "```python\n",
    "def dist_convert(dist, direction='y2f'):\n",
    "    if type(dist) != int:\n",
    "        raise TypeError()\n",
    "\n",
    "    if direction == 'y2f':\n",
    "        return dist*3\n",
    "    elif direction == 'f2y':\n",
    "        return dist/3\n",
    "    else:\n",
    "        raise ValueError()\n",
    "```"
   ]
  },
  {
   "cell_type": "code",
   "execution_count": null,
   "metadata": {
    "id": "J01DnlvspkjR"
   },
   "outputs": [],
   "source": [
    "import math\n",
    "\n",
    "def get_perfect_squares(value):\n",
    "  \"\"\"\n",
    "  Use a loop to calculate all the perfect squares as a list up to a certain value \n",
    "  (include the value)\n",
    "  \"\"\"\n",
    "  pass # complete this function to pass the tests below\n",
    "\n",
    "\n",
    "assert(get_perfect_squares(64) == [0, 1, 4, 9, 16, 25, 36, 49, 64])\n",
    "assert(get_perfect_squares(1000) == [0, 1, 4, 9, 16, 25, 36, 49, 64, 81, 100, 121, 144, 169, 196, 225, 256, 289, 324, 361, 400, 441, 484, 529, 576, 625, 676, 729, 784, 841, 900, 961])"
   ]
  },
  {
   "cell_type": "markdown",
   "metadata": {},
   "source": [
    "#### Answer\n",
    "\n",
    "```python\n",
    "def get_perfect_squares(value):\n",
    "  squares = []\n",
    "  for i in range(value + 1):\n",
    "    if int(math.sqrt(i)) == math.sqrt(i):\n",
    "      squares.append(i)\n",
    "  return squares\n",
    "```"
   ]
  },
  {
   "cell_type": "markdown",
   "metadata": {},
   "source": [
    "#### Working With Pandas\n",
    "                                                       \n",
    "Some info: *Pandas is a fast, powerful, flexible and easy to use open source data analysis and manipulation tool, built on top of the Python programming language* - https://pandas.pydata.org\n",
    "\n",
    "The Rutgers Weather Watchers club needs your help! They need a python expert to conduct data analysis on a set of historical weather datapoints from the past year. Parse through the data and print the following results:\n",
    "\n",
    "- Write a function to return any rows that have a null value in it\n",
    "- Write a function which adds a column which has the average temperature of each day, we do this by taking the sum of the max and min and dividing by two\n",
    "- Write a function to calculate a few basic statistics that the club would like to include in their report\n",
    "- Write a function to calculate the correlation between the minimum temperature and the maximum temperature daily, that is does an increase in the minimum temperature correlate to an increase in the maximum temperature?\n",
    "\n",
    "<img src=\"https://cdn.inksoft.com/images/publishers/16183/stores/rutgers_weather_watch/img/logo-converted.png?version=638187696209400000\" alt=\"logo\" width=\"200\"/>"
   ]
  },
  {
   "cell_type": "code",
   "execution_count": null,
   "metadata": {
    "tags": []
   },
   "outputs": [],
   "source": [
    "import pandas as pd\n",
    "import requests\n",
    "import json\n",
    "\n",
    "response = requests.get('https://archive-api.open-meteo.com/v1/era5?latitude=37.09&longitude=-95.71&start_date=2021-11-28&end_date=2022-11-28&daily=temperature_2m_max,temperature_2m_min&timezone=America%2FNew_York&temperature_unit=fahrenheit&windspeed_unit=mph&precipitation_unit=inch').text\n",
    "data = json.loads(response)\n",
    "weather_df = pd.DataFrame(data['daily'])"
   ]
  },
  {
   "cell_type": "code",
   "execution_count": null,
   "metadata": {
    "tags": []
   },
   "outputs": [],
   "source": [
    "def return_null_rows() -> pd.DataFrame:\n",
    "    \"\"\"\n",
    "    Your first task is to return all the rows that have null values in the data frame\n",
    "    \"\"\"\n",
    "    pass # complete this function to pass the tests below\n",
    "\n",
    "assert(return_null_rows().empty)"
   ]
  },
  {
   "cell_type": "markdown",
   "metadata": {
    "tags": []
   },
   "source": [
    "#### Answer\n",
    "\n",
    "```python\n",
    "def return_null_rows() -> pd.DataFrame:\n",
    "    return weather_df[weather_df.isnull().any(axis=1)]\n",
    "```\n",
    "\n",
    "Because we want to check if any of the columns in the data frame are null, we call the `.any()` on the dataframe which will return an object on the specified axis (rows here) if it contains at least one null value."
   ]
  },
  {
   "cell_type": "code",
   "execution_count": null,
   "metadata": {},
   "outputs": [],
   "source": [
    "def find_average_temp() -> pd.DataFrame:\n",
    "    \"\"\"\n",
    "    Now create a new column called temperature_average which has the max+min/2 for each row, \n",
    "    there's multiple correct answers to this so be sure to experiment with a couple solutions\n",
    "    \"\"\"\n",
    "    pass # complete this function to pass the tests below\n",
    "\n",
    "assert(find_average_temp()['temperature_average'].equals((weather_df['temperature_2m_max']+weather_df['temperature_2m_min']) / 2))"
   ]
  },
  {
   "cell_type": "markdown",
   "metadata": {},
   "source": [
    "#### Answer\n",
    "\n",
    "```python\n",
    "def find_average_temp() -> pd.DataFrame:\n",
    "    weather_df['temperature_average'] = (weather_df['temperature_2m_max']+weather_df['temperature_2m_min']) / 2\n",
    "    return weather_df\n",
    "```"
   ]
  },
  {
   "cell_type": "code",
   "execution_count": null,
   "metadata": {},
   "outputs": [],
   "source": [
    "def find_stats() -> list:\n",
    "    \"\"\"\n",
    "    Complete the function to return a list of the minimum temp of the year, maximum temp of the year, \n",
    "    average minimum temp, and average maximum temp\n",
    "    \"\"\"\n",
    "    pass # complete this function to pass the tests below\n",
    "\n",
    "res = find_stats()\n",
    "answers = [7.8, 103.5, 52.84808743169399, 70.75956284153006]\n",
    "for i, e in enumerate(answers):\n",
    "    assert(e == res[i])"
   ]
  },
  {
   "cell_type": "markdown",
   "metadata": {},
   "source": [
    "#### Answer\n",
    "```python\n",
    "def find_stats() -> list:\n",
    "    min_val = weather_df.min(numeric_only=True)['temperature_2m_min']\n",
    "    max_val = weather_df.max(numeric_only=True)['temperature_2m_max']\n",
    "    avg_min = weather_df.mean(numeric_only=True)['temperature_2m_min']\n",
    "    avg_max = weather_df.mean(numeric_only=True)['temperature_2m_max']\n",
    "    return [min_val, max_val, avg_min, avg_max]\n",
    "```"
   ]
  },
  {
   "cell_type": "code",
   "execution_count": null,
   "metadata": {
    "tags": []
   },
   "outputs": [],
   "source": [
    "def find_correlation():\n",
    "    \"\"\"\n",
    "    Lastly, the weather watchers want to know if an increase in the minimum temperature of a day leads to an increase in the \n",
    "    maximum temperature as well, that is to say, is there a positive correlation between the min and max temps?\n",
    "    \"\"\"\n",
    "    pass # complete this function to pass the tests below\n",
    "\n",
    "assert(find_correlation() == 0.9566381851419807)"
   ]
  },
  {
   "cell_type": "markdown",
   "metadata": {},
   "source": [
    "#### Answer\n",
    "\n",
    "```python\n",
    "def find_correlation():\n",
    "    return weather_df['temperature_2m_min'].corr(weather_df['temperature_2m_max'])\n",
    "```"
   ]
  }
 ],
 "metadata": {
  "colab": {
   "authorship_tag": "ABX9TyPUrbAkLlvsFXUsau3idR2t",
   "provenance": []
  },
  "kernelspec": {
   "display_name": "Python 3.9",
   "language": "python",
   "name": "python39"
  },
  "language_info": {
   "codemirror_mode": {
    "name": "ipython",
    "version": 3
   },
   "file_extension": ".py",
   "mimetype": "text/x-python",
   "name": "python",
   "nbconvert_exporter": "python",
   "pygments_lexer": "ipython3",
   "version": "3.9.16"
  }
 },
 "nbformat": 4,
 "nbformat_minor": 4
}
