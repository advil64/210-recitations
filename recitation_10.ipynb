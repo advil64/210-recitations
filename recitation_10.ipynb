{
 "cells": [
  {
   "cell_type": "markdown",
   "metadata": {},
   "source": [
    "# Recitation 10\n",
    "\n",
    "Can you believe we only have three more recitations left?!? Anyway, this week we'll go over matplotlib, a very very old python plotting library that's still used frequently for some reason."
   ]
  },
  {
   "cell_type": "code",
   "execution_count": 6,
   "metadata": {},
   "outputs": [
    {
     "name": "stdout",
     "output_type": "stream",
     "text": [
      "Requirement already satisfied: matplotlib in /Library/Frameworks/Python.framework/Versions/3.10/lib/python3.10/site-packages (3.8.1)\n",
      "Requirement already satisfied: contourpy>=1.0.1 in /Library/Frameworks/Python.framework/Versions/3.10/lib/python3.10/site-packages (from matplotlib) (1.2.0)\n",
      "Requirement already satisfied: cycler>=0.10 in /Library/Frameworks/Python.framework/Versions/3.10/lib/python3.10/site-packages (from matplotlib) (0.12.1)\n",
      "Requirement already satisfied: fonttools>=4.22.0 in /Library/Frameworks/Python.framework/Versions/3.10/lib/python3.10/site-packages (from matplotlib) (4.44.0)\n",
      "Requirement already satisfied: kiwisolver>=1.3.1 in /Library/Frameworks/Python.framework/Versions/3.10/lib/python3.10/site-packages (from matplotlib) (1.4.5)\n",
      "Requirement already satisfied: numpy<2,>=1.21 in /Library/Frameworks/Python.framework/Versions/3.10/lib/python3.10/site-packages (from matplotlib) (1.23.4)\n",
      "Requirement already satisfied: packaging>=20.0 in /Library/Frameworks/Python.framework/Versions/3.10/lib/python3.10/site-packages (from matplotlib) (21.3)\n",
      "Requirement already satisfied: pillow>=8 in /Library/Frameworks/Python.framework/Versions/3.10/lib/python3.10/site-packages (from matplotlib) (10.1.0)\n",
      "Requirement already satisfied: pyparsing>=2.3.1 in /Library/Frameworks/Python.framework/Versions/3.10/lib/python3.10/site-packages (from matplotlib) (3.0.9)\n",
      "Requirement already satisfied: python-dateutil>=2.7 in /Library/Frameworks/Python.framework/Versions/3.10/lib/python3.10/site-packages (from matplotlib) (2.8.2)\n",
      "Requirement already satisfied: six>=1.5 in /Library/Frameworks/Python.framework/Versions/3.10/lib/python3.10/site-packages (from python-dateutil>=2.7->matplotlib) (1.16.0)\n",
      "\n",
      "\u001b[1m[\u001b[0m\u001b[34;49mnotice\u001b[0m\u001b[1;39;49m]\u001b[0m\u001b[39;49m A new release of pip is available: \u001b[0m\u001b[31;49m23.2.1\u001b[0m\u001b[39;49m -> \u001b[0m\u001b[32;49m23.3.1\u001b[0m\n",
      "\u001b[1m[\u001b[0m\u001b[34;49mnotice\u001b[0m\u001b[1;39;49m]\u001b[0m\u001b[39;49m To update, run: \u001b[0m\u001b[32;49mpip install --upgrade pip\u001b[0m\n"
     ]
    }
   ],
   "source": [
    "## SETUP CODE DO NOT EDIT\n",
    "!pip3 install -U matplotlib\n",
    "%matplotlib inline\n",
    "\n",
    "import requests\n",
    "import json\n",
    "import pandas as pd\n",
    "import matplotlib.pyplot as plt\n",
    "\n",
    "response = requests.get('https://archive-api.open-meteo.com/v1/era5?latitude=37.09&longitude=-95.71&start_date=2022-10-02&end_date=2023-09-30&daily=temperature_2m_max,temperature_2m_min&timezone=America%2FNew_York&temperature_unit=fahrenheit&windspeed_unit=mph&precipitation_unit=inch').text\n",
    "data = json.loads(response)\n",
    "weather_df = pd.DataFrame(data['daily'])\n",
    "\n",
    "weather_df.rename(columns={\"temperature_2m_max\": \"max_temp\", \"temperature_2m_min\": \"min_temp\"}, inplace=True)\n",
    "weather_df['time']= pd.to_datetime(weather_df['time'])"
   ]
  },
  {
   "cell_type": "markdown",
   "metadata": {},
   "source": [
    "## The Weather Watchers\n",
    "\n",
    "The Rutgers Weather Watchers club needs your help... last time they promise! They need a python expert to conduct data analysis on a set of historical weather datapoints from the past year. Parse through the data and print the following results:\n",
    "- Plot the temperatures with the x axis being date and y axis being temperature as a scatterplot, then also plot it as a line plot\n",
    "- Assign certain seasons to each datapoint with a new column called season, then graph a box-whisker plot for each season\n",
    "- Plot a bar at the 95% value and 5% value which shows the outlier values\n",
    "\n",
    "<img src=\"https://media.tenor.com/835YCl4Cvx0AAAAd/sml-brooklyn-guy.gif\" alt=\"my friend Ben\" width=\"200\"/>"
   ]
  },
  {
   "cell_type": "code",
   "execution_count": null,
   "metadata": {},
   "outputs": [],
   "source": [
    "### PLOT HERE"
   ]
  },
  {
   "cell_type": "markdown",
   "metadata": {},
   "source": [
    "### Answer\n",
    "\n",
    "```python\n",
    "plt.figure(figsize=(14, 6))\n",
    "\n",
    "# Scatterplot\n",
    "plt.subplot(1, 2, 1)\n",
    "plt.scatter(weather_df['time'], weather_df['max_temp'], marker='o', color='blue', label='Temperature')\n",
    "plt.title('Temperature Scatterplot')\n",
    "plt.xlabel('Date')\n",
    "plt.ylabel('Temperature')\n",
    "plt.xticks(rotation=45)\n",
    "plt.legend()\n",
    "\n",
    "# Line plot\n",
    "plt.subplot(1, 2, 2)\n",
    "plt.plot(weather_df['time'], weather_df['max_temp'], color='green', label='Temperature')\n",
    "plt.title('Temperature Line Plot')\n",
    "plt.xlabel('Date')\n",
    "plt.ylabel('Temperature')\n",
    "plt.xticks(rotation=45)\n",
    "plt.legend()\n",
    "\n",
    "plt.tight_layout()\n",
    "plt.show()\n",
    "```\n",
    "**Questions**\n",
    "- How does `subplot` work? What about `figure`?\n",
    "- What do you think happens when you change the `marker` value?\n",
    "- Play around with the functions and see what happens when you change different parameters/function names."
   ]
  },
  {
   "cell_type": "code",
   "execution_count": null,
   "metadata": {},
   "outputs": [],
   "source": [
    "### Task 2: Assign seasons to each datapoint and graph box-whisker plot for each season"
   ]
  },
  {
   "cell_type": "markdown",
   "metadata": {},
   "source": [
    "### Answer\n",
    "\n",
    "```python\n",
    "weather_df['month'] = weather_df['time'].dt.month\n",
    "\n",
    "# Define a function to assign seasons based on the month\n",
    "def get_season(month):\n",
    "    if 3 <= month <= 5:\n",
    "        return 'Spring'\n",
    "    elif 6 <= month <= 8:\n",
    "        return 'Summer'\n",
    "    elif 9 <= month <= 11:\n",
    "        return 'Fall'\n",
    "    else:\n",
    "        return 'Winter'\n",
    "\n",
    "# Apply the function to create a new 'season' column\n",
    "weather_df['season'] = weather_df['month'].apply(get_season)\n",
    "\n",
    "# Box-whisker plot for each season using Matplotlib\n",
    "seasons = ['Spring', 'Summer', 'Fall', 'Winter']\n",
    "\n",
    "plt.figure(figsize=(10, 6))\n",
    "for season in seasons:\n",
    "    plt.boxplot(\n",
    "        weather_df[weather_df['season'] == season]['max_temp'],\n",
    "        positions=[seasons.index(season) + 1],\n",
    "        labels=[season],\n",
    "        widths=0.6,\n",
    "        showfliers=False,\n",
    "        patch_artist=True,\n",
    "        medianprops={'color': 'black'},\n",
    "        boxprops={'facecolor': plt.cm.Set3(seasons.index(season) / len(seasons))}\n",
    "    )\n",
    "\n",
    "plt.title('Box-Whisker Plot for Temperature by Season')\n",
    "plt.xlabel('Season')\n",
    "plt.ylabel('Temperature')\n",
    "plt.show()\n",
    "```\n",
    "\n",
    "**Questions**\n",
    "- In this solution we use a for loop to go through each season and draw the box plot separately, how could we have done this without the loop?\n",
    "- `plt` is a weird thing in matplotlib, it's both a module as well as a variable, spend some time digesting how plt is used"
   ]
  },
  {
   "cell_type": "code",
   "execution_count": null,
   "metadata": {},
   "outputs": [],
   "source": [
    "### Task 3: Plot a bar at the 95% and 5% value to show outlier values"
   ]
  },
  {
   "cell_type": "markdown",
   "metadata": {},
   "source": [
    "### Answer\n",
    "\n",
    "```python\n",
    "plt.figure(figsize=(14, 6))\n",
    "\n",
    "plt.scatter(weather_df['time'], weather_df['max_temp'], marker='o', color='blue', label='Temperature')\n",
    "plt.title('Temperature Scatterplot with Outlier Bars')\n",
    "plt.axhline(weather_df['max_temp'].quantile(0.05), color='red', linestyle='dashed', linewidth=2, label='5% Quantile')\n",
    "plt.axhline(weather_df['max_temp'].quantile(0.95), color='green', linestyle='dashed', linewidth=2, label='95% Quantile')\n",
    "plt.xlabel('Date')\n",
    "plt.ylabel('Temperature')\n",
    "plt.xticks(rotation=45)\n",
    "plt.legend()\n",
    "plt.show()\n",
    "```"
   ]
  },
  {
   "cell_type": "code",
   "execution_count": 88,
   "metadata": {},
   "outputs": [
    {
     "name": "stdout",
     "output_type": "stream",
     "text": [
      "  % Total    % Received % Xferd  Average Speed   Time    Time     Time  Current\n",
      "                                 Dload  Upload   Total   Spent    Left  Speed\n",
      "  0     0    0     0    0     0      0      0 --:--:-- --:--:-- --:--:--     0"
     ]
    },
    {
     "name": "stdout",
     "output_type": "stream",
     "text": [
      "  0     0    0     0    0     0      0      0 --:--:-- --:--:-- --:--:--     0\n",
      "  0     0    0     0    0     0      0      0 --:--:-- --:--:-- --:--:--     0\n",
      "100     6    0     6    0     0      4      0 --:--:--  0:00:01 --:--:--     9\n",
      "100  148k  100  148k    0     0  91655      0  0:00:01  0:00:01 --:--:-- 1171k\n",
      "Requirement already satisfied: plotly in /Library/Frameworks/Python.framework/Versions/3.10/lib/python3.10/site-packages (5.18.0)\n",
      "Requirement already satisfied: tenacity>=6.2.0 in /Library/Frameworks/Python.framework/Versions/3.10/lib/python3.10/site-packages (from plotly) (8.1.0)\n",
      "Requirement already satisfied: packaging in /Library/Frameworks/Python.framework/Versions/3.10/lib/python3.10/site-packages (from plotly) (21.3)\n",
      "Requirement already satisfied: pyparsing!=3.0.5,>=2.0.2 in /Library/Frameworks/Python.framework/Versions/3.10/lib/python3.10/site-packages (from packaging->plotly) (3.0.9)\n",
      "\n",
      "\u001b[1m[\u001b[0m\u001b[34;49mnotice\u001b[0m\u001b[1;39;49m]\u001b[0m\u001b[39;49m A new release of pip is available: \u001b[0m\u001b[31;49m23.2.1\u001b[0m\u001b[39;49m -> \u001b[0m\u001b[32;49m23.3.1\u001b[0m\n",
      "\u001b[1m[\u001b[0m\u001b[34;49mnotice\u001b[0m\u001b[1;39;49m]\u001b[0m\u001b[39;49m To update, run: \u001b[0m\u001b[32;49mpip install --upgrade pip\u001b[0m\n",
      "Collecting seaborn\n",
      "  Obtaining dependency information for seaborn from https://files.pythonhosted.org/packages/7b/e5/83fcd7e9db036c179e0352bfcd20f81d728197a16f883e7b90307a88e65e/seaborn-0.13.0-py3-none-any.whl.metadata\n",
      "  Downloading seaborn-0.13.0-py3-none-any.whl.metadata (5.3 kB)\n",
      "Requirement already satisfied: numpy!=1.24.0,>=1.20 in /Library/Frameworks/Python.framework/Versions/3.10/lib/python3.10/site-packages (from seaborn) (1.23.4)\n",
      "Requirement already satisfied: pandas>=1.2 in /Library/Frameworks/Python.framework/Versions/3.10/lib/python3.10/site-packages (from seaborn) (1.5.1)\n",
      "Requirement already satisfied: matplotlib!=3.6.1,>=3.3 in /Library/Frameworks/Python.framework/Versions/3.10/lib/python3.10/site-packages (from seaborn) (3.8.1)\n",
      "Requirement already satisfied: contourpy>=1.0.1 in /Library/Frameworks/Python.framework/Versions/3.10/lib/python3.10/site-packages (from matplotlib!=3.6.1,>=3.3->seaborn) (1.2.0)\n",
      "Requirement already satisfied: cycler>=0.10 in /Library/Frameworks/Python.framework/Versions/3.10/lib/python3.10/site-packages (from matplotlib!=3.6.1,>=3.3->seaborn) (0.12.1)\n",
      "Requirement already satisfied: fonttools>=4.22.0 in /Library/Frameworks/Python.framework/Versions/3.10/lib/python3.10/site-packages (from matplotlib!=3.6.1,>=3.3->seaborn) (4.44.0)\n",
      "Requirement already satisfied: kiwisolver>=1.3.1 in /Library/Frameworks/Python.framework/Versions/3.10/lib/python3.10/site-packages (from matplotlib!=3.6.1,>=3.3->seaborn) (1.4.5)\n",
      "Requirement already satisfied: packaging>=20.0 in /Library/Frameworks/Python.framework/Versions/3.10/lib/python3.10/site-packages (from matplotlib!=3.6.1,>=3.3->seaborn) (21.3)\n",
      "Requirement already satisfied: pillow>=8 in /Library/Frameworks/Python.framework/Versions/3.10/lib/python3.10/site-packages (from matplotlib!=3.6.1,>=3.3->seaborn) (10.1.0)\n",
      "Requirement already satisfied: pyparsing>=2.3.1 in /Library/Frameworks/Python.framework/Versions/3.10/lib/python3.10/site-packages (from matplotlib!=3.6.1,>=3.3->seaborn) (3.0.9)\n",
      "Requirement already satisfied: python-dateutil>=2.7 in /Library/Frameworks/Python.framework/Versions/3.10/lib/python3.10/site-packages (from matplotlib!=3.6.1,>=3.3->seaborn) (2.8.2)\n",
      "Requirement already satisfied: pytz>=2020.1 in /Library/Frameworks/Python.framework/Versions/3.10/lib/python3.10/site-packages (from pandas>=1.2->seaborn) (2022.6)\n",
      "Requirement already satisfied: six>=1.5 in /Library/Frameworks/Python.framework/Versions/3.10/lib/python3.10/site-packages (from python-dateutil>=2.7->matplotlib!=3.6.1,>=3.3->seaborn) (1.16.0)\n",
      "Downloading seaborn-0.13.0-py3-none-any.whl (294 kB)\n",
      "\u001b[2K   \u001b[90m━━━━━━━━━━━━━━━━━━━━━━━━━━━━━━━━━━━━━━━━\u001b[0m \u001b[32m294.6/294.6 kB\u001b[0m \u001b[31m4.4 MB/s\u001b[0m eta \u001b[36m0:00:00\u001b[0ma \u001b[36m0:00:01\u001b[0m\n",
      "\u001b[?25hInstalling collected packages: seaborn\n",
      "Successfully installed seaborn-0.13.0\n",
      "\n",
      "\u001b[1m[\u001b[0m\u001b[34;49mnotice\u001b[0m\u001b[1;39;49m]\u001b[0m\u001b[39;49m A new release of pip is available: \u001b[0m\u001b[31;49m23.2.1\u001b[0m\u001b[39;49m -> \u001b[0m\u001b[32;49m23.3.1\u001b[0m\n",
      "\u001b[1m[\u001b[0m\u001b[34;49mnotice\u001b[0m\u001b[1;39;49m]\u001b[0m\u001b[39;49m To update, run: \u001b[0m\u001b[32;49mpip install --upgrade pip\u001b[0m\n"
     ]
    }
   ],
   "source": [
    "### SETUP CODE DO NOT EDIT\n",
    "!curl -L  https://rutgers.box.com/shared/static/ubxvyh17gcaoc55y9vazt3kpsee4k5tf --output german_credit.csv\n",
    "!pip3 install -U plotly\n",
    "!pip3 install -U seaborn\n",
    "cred_df = pd.read_csv(\"./german_credit.csv\")"
   ]
  },
  {
   "cell_type": "markdown",
   "metadata": {},
   "source": [
    "## Sprechen Sie Deutsch?\n",
    "\n",
    "Ah yes, Germany, land of pretzels, sausage, and best of all beer! Alas your task is not as fun today, you've recently been hired by chancellor Olaf Scholz (yes that's his actual name) as the new German Credit Economics Matplotlib Visualization Office, congrats! Scholz has given you the following tasks\n",
    "- First plot subplots of two histograms: one with savings_status on the x-axis and personal_status as different colors, and another with checking_status on the x-axis and personal_status as different colors\n",
    "- Once you do the first part of this question, you'll quickly realize that matplotlib is an archaic plotting solution that no one should really be using... and honestly not many people do, let's do the same thing we just did but use plotly which is more of a 21st century solution to plotting\n",
    "- Another option is using seaborn which is a kind of mix between plotly and matplotlib, easier to use but keeps a lot of the matplotlib functionality that developers love, also make one of the plots a bar plot rather than a histogram\n",
    "- Lastly you might be wondering why we use a histogram in this question rather than a barchart, what's the difference?!?\n",
    "\n",
    "<img src=\"https://media.tenor.com/ScQwfl9WmkUAAAAC/germany-flag.gif\" alt=\"my friend Ben\" width=\"200\"/>"
   ]
  },
  {
   "cell_type": "code",
   "execution_count": null,
   "metadata": {},
   "outputs": [],
   "source": [
    "### CODE GOES HERE"
   ]
  },
  {
   "cell_type": "markdown",
   "metadata": {},
   "source": [
    "### Answer\n",
    "\n",
    "```python\n",
    "plt.figure(figsize=(14, 10))\n",
    "\n",
    "\n",
    "plt.subplot(1, 2, 1)\n",
    "personal_statuses = cred_df[\"personal_status\"].unique()\n",
    "colors = [plt.cm.Set3(i / len(statuses)) for i,e in enumerate(personal_statuses)]\n",
    "\n",
    "statuses = [cred_df[cred_df[\"personal_status\"] == status][\"savings_status\"] for i, status in enumerate(personal_statuses)]\n",
    "plt.hist(statuses, \n",
    "         bins=5,\n",
    "         color = colors, \n",
    "         label = personal_statuses,\n",
    "         align='mid')\n",
    "    \n",
    "plt.legend(prop={'size': 10})\n",
    "plt.title('Histogram of Savings Status by Personal Status')\n",
    "plt.xlabel('Savings Status')\n",
    "plt.ylabel('Frequency')\n",
    "plt.xticks(rotation=45)\n",
    "plt.legend()\n",
    "\n",
    "plt.subplot(1, 2, 2)\n",
    "\n",
    "statuses = [cred_df[cred_df[\"personal_status\"] == status][\"checking_status\"] for i, status in enumerate(personal_statuses)]\n",
    "plt.hist(statuses, \n",
    "         bins=4,\n",
    "         color = colors, \n",
    "         label = personal_statuses,\n",
    "         align='mid')\n",
    "    \n",
    "plt.legend(prop={'size': 10})\n",
    "plt.title('Histogram of Checking Status by Personal Status')\n",
    "plt.xlabel('Savings Status')\n",
    "plt.ylabel('Frequency')\n",
    "plt.xticks(rotation=45)\n",
    "plt.legend()\n",
    "\n",
    "plt.tight_layout()\n",
    "plt.show()\n",
    "```"
   ]
  },
  {
   "cell_type": "code",
   "execution_count": null,
   "metadata": {},
   "outputs": [],
   "source": [
    "# Once you do the first part of this question, you'll quickly realize that matplotlib is an archaic plotting solution \n",
    "# that no one should really be using... and honestly not many people do, let's do the same thing we just did but use plotly \n",
    "# which is more of a 21st century solution to plotting"
   ]
  },
  {
   "cell_type": "markdown",
   "metadata": {},
   "source": [
    "### Answer\n",
    "\n",
    "```python\n",
    "import plotly.express as px\n",
    "import plotly.subplots as sp\n",
    "import plotly.graph_objects as go\n",
    "\n",
    "fig_1 = px.histogram(cred_df, x=\"savings_status\", color=\"personal_status\", barmode='group')\n",
    "fig_2 = px.histogram(cred_df, x=\"checking_status\", color=\"personal_status\", barmode='group')\n",
    "\n",
    "fig_1.show()\n",
    "fig_2.show()\n",
    "```\n",
    "**Take home assignment**\n",
    "\n",
    "Try making subplots similar to the previous section where the two graphs are side by side... you'll see that this task isn't as straightforward as one might imagine"
   ]
  },
  {
   "cell_type": "code",
   "execution_count": null,
   "metadata": {},
   "outputs": [],
   "source": [
    "# Another option is using seaborn which is a kind of mix between plotly and matplotlib, easier to use but keeps a lot of \n",
    "# the matplotlib functionality that developers love"
   ]
  },
  {
   "cell_type": "markdown",
   "metadata": {},
   "source": [
    "### Answer\n",
    "\n",
    "```python\n",
    "import matplotlib.pyplot as plt\n",
    "import seaborn as sns\n",
    "\n",
    "plt.figure(figsize=(14, 10))\n",
    "\n",
    "# Histogram of Savings Status\n",
    "plt.subplot(1, 2, 1)\n",
    "sns.histplot(data=cred_df, x=\"savings_status\", hue=\"personal_status\", bins=5, palette=\"Set3\", multiple=\"dodge\", legend=True)\n",
    "plt.title('Histogram of Savings Status by Personal Status')\n",
    "plt.xlabel('Savings Status')\n",
    "plt.ylabel('Frequency')\n",
    "plt.xticks(rotation=45)\n",
    "\n",
    "# Histogram of Checking Status\n",
    "plt.subplot(1, 2, 2)\n",
    "sns.countplot(data=cred_df, x=\"checking_status\", hue=\"personal_status\", palette=\"Set3\", legend=True)\n",
    "plt.title('Histogram of Checking Status by Personal Status')\n",
    "plt.xlabel('Checking Status')\n",
    "plt.ylabel('Frequency')\n",
    "plt.xticks(rotation=45)\n",
    "\n",
    "plt.tight_layout()\n",
    "plt.show()\n",
    "```"
   ]
  },
  {
   "cell_type": "markdown",
   "metadata": {},
   "source": [
    "## Bar Plot vs. Histogram\n",
    "\n",
    "### Bar Plot:\n",
    "\n",
    "- **Categorical Data:** Bar plots are *usually* used for displaying the distribution of categorical data. The x-axis represents different categories, and the y-axis represents the frequency, count, or other aggregated measure associated with each category.\n",
    "\n",
    "- **Discrete Data:** Bar plots are suitable for discrete data, where each category is distinct and separate. The categories are typically non-numeric and represent different groups or classes.\n",
    "\n",
    "- **Spacing Between Bars:** There is usually space between adjacent bars in a bar plot because each bar represents a distinct category. For all intents and purposes this is the easiest way to differentiate between the two!\n",
    "\n",
    "- **No Bins:** Bar plots don't involve binning of data. Each category gets its own bar.\n",
    "\n",
    "### Histogram:\n",
    "\n",
    "- **Numeric Data:** Histograms are used for displaying the distribution of numeric data. The x-axis represents the range of values (divided into bins), and the y-axis represents the frequency or probability of occurrence within each bin.\n",
    "\n",
    "- **Continuous Data:** Histograms are suitable for continuous data where the values can fall within a range. The data is divided into bins, and the height of each bar represents the frequency or density of data points within that bin.\n",
    "\n",
    "- **Continuous Distribution:** Histograms show the continuity of the distribution. There's no gap between adjacent bars because the data is continuous, and each bar represents a range of values.\n",
    "\n",
    "- **Binning:** Histograms involve binning the data into intervals or bins. The height of each bar reflects the number of data points falling within that bin.\n",
    "\n",
    "In summary, the key difference lies in the type of data they are used to represent and how that data is structured. Bar plots are suitable for categorical and discrete data, while histograms are designed for visualizing the distribution of continuous numerical data. However in today's world they are often used interchangeably."
   ]
  }
 ],
 "metadata": {
  "kernelspec": {
   "display_name": "Python 3",
   "language": "python",
   "name": "python3"
  },
  "language_info": {
   "codemirror_mode": {
    "name": "ipython",
    "version": 3
   },
   "file_extension": ".py",
   "mimetype": "text/x-python",
   "name": "python",
   "nbconvert_exporter": "python",
   "pygments_lexer": "ipython3",
   "version": "3.10.7"
  }
 },
 "nbformat": 4,
 "nbformat_minor": 2
}
