{
 "cells": [
  {
   "cell_type": "markdown",
   "metadata": {},
   "source": [
    "# Recitation 6\n",
    "\n",
    "Welcome back! Hope you're looking forward to your exams (or your exam went well if you're meeting on a friday). This week we will cover SQL!\n",
    "\n",
    "<img src=\"https://media.tenor.com/eJZbFUQUMzEAAAAM/nosql-power-rangers.gif\" alt=\"meme\" width=\"400\"/>"
   ]
  },
  {
   "cell_type": "markdown",
   "metadata": {},
   "source": [
    "## Before we start\n",
    "\n",
    "If you have any questions about the exam or anything you're confused about, now is the time to ask. There is no such thing as a dumb question so please ask away!"
   ]
  },
  {
   "cell_type": "markdown",
   "metadata": {},
   "source": [
    "### Setup Code\n",
    "\n",
    "Because using a local mysql server can be tricky for everyone to follow along with, we'll use a nifty library that allows you to run SQL statements on a pandas data frame. It's called `pandasql` and you can find more info about it here: https://pypi.org/project/pandasql/. This notebook works for sure on google colab (https://colab.research.google.com/) so if you're unable to run on your local machine, you can try at the link provided"
   ]
  },
  {
   "cell_type": "code",
   "execution_count": null,
   "metadata": {},
   "outputs": [],
   "source": [
    "!pip install -U pandasql\n",
    "!pip install SQLAlchemy==1.4.46"
   ]
  },
  {
   "cell_type": "code",
   "execution_count": null,
   "metadata": {},
   "outputs": [],
   "source": [
    "from pandasql import sqldf\n",
    "import pandas as pd\n",
    "\n",
    "pysqldf = lambda q: sqldf(q, globals())"
   ]
  },
  {
   "cell_type": "code",
   "execution_count": null,
   "metadata": {},
   "outputs": [],
   "source": [
    "!curl -L  https://rutgers.box.com/shared/static/2qchtiiq250iuqtqta33xdh1bo2aqels --output employees.csv\n",
    "df = pd.read_csv(\"employees.csv\")\n",
    "df.head()"
   ]
  },
  {
   "cell_type": "markdown",
   "metadata": {},
   "source": [
    "## CEO Entrepreneur Born in 1964...\n",
    "\n",
    "Congrats! You've been hired by Amazon as an HR Rep! Your first task is to find employees to assign to the \"personnel improvement program\" (PIP). Use SQL to identify people who meet these criteria below.\n",
    "- Find all employees who were hired after 2015\n",
    "- Find all employees who work for Clothing or Tools\n",
    "- Find all employees who make more than 100k but less than 125k\n",
    "- Find all employees who haven't given amazon their email (shows disloyalty to the company)\n",
    "- Find all men who were hired before 2006, work in pharmacy, and work in region 2\n",
    "\n",
    "<img src=\"https://media.tenor.com/GugokSc3Q4EAAAAC/risa-bezos-speedball.gif\" alt=\"bezos\" width=\"200\"/>"
   ]
  },
  {
   "cell_type": "code",
   "execution_count": null,
   "metadata": {},
   "outputs": [],
   "source": [
    "# Find all employees who were hired after 2015\n",
    "\n",
    "query = \"\"\"\n",
    "### ENTER YOUR SQL QUERY HERE\n",
    "\"\"\"\n",
    "\n",
    "pysqldf(query)"
   ]
  },
  {
   "cell_type": "markdown",
   "metadata": {},
   "source": [
    "#### Answer\n",
    "```sql\n",
    "SELECT *\n",
    "FROM df\n",
    "WHERE hire_date > '2015-01-01'\n",
    "```"
   ]
  },
  {
   "cell_type": "code",
   "execution_count": null,
   "metadata": {},
   "outputs": [],
   "source": [
    "# Find all employees who work for Clothing or Tools\n",
    "\n",
    "query = \"\"\"\n",
    "### ENTER YOUR SQL QUERY HERE\n",
    "\"\"\"\n",
    "\n",
    "pysqldf(query)"
   ]
  },
  {
   "cell_type": "markdown",
   "metadata": {},
   "source": [
    "#### Answer\n",
    "```sql\n",
    "SELECT *\n",
    "FROM df\n",
    "WHERE department IN ('Clothing', 'Tools')\n",
    "```"
   ]
  },
  {
   "cell_type": "code",
   "execution_count": null,
   "metadata": {},
   "outputs": [],
   "source": [
    "# Find all employees who make more than 100k but less than 125k\n",
    "\n",
    "query = \"\"\"\n",
    "### ENTER YOUR SQL QUERY HERE\n",
    "\"\"\"\n",
    "\n",
    "pysqldf(query)"
   ]
  },
  {
   "cell_type": "markdown",
   "metadata": {},
   "source": [
    "#### Answer\n",
    "```sql\n",
    "SELECT *\n",
    "FROM df\n",
    "WHERE salary BETWEEN 100000 AND 125000\n",
    "```"
   ]
  },
  {
   "cell_type": "code",
   "execution_count": null,
   "metadata": {},
   "outputs": [],
   "source": [
    "# Find all employees who haven't given amazon their email (shows disloyalty to the company)\n",
    "\n",
    "query = \"\"\"\n",
    "### ENTER YOUR SQL QUERY HERE\n",
    "\"\"\"\n",
    "\n",
    "pysqldf(query)"
   ]
  },
  {
   "cell_type": "markdown",
   "metadata": {},
   "source": [
    "#### Answer\n",
    "```sql\n",
    "SELECT *\n",
    "FROM df\n",
    "WHERE email IS NULL\n",
    "```"
   ]
  },
  {
   "cell_type": "code",
   "execution_count": null,
   "metadata": {},
   "outputs": [],
   "source": [
    "# Find all men who were hired before 2006, work in pharmacy, and work in region 2\n",
    "\n",
    "query = \"\"\"\n",
    "### ENTER YOUR SQL QUERY HERE\n",
    "\"\"\"\n",
    "\n",
    "pysqldf(query)"
   ]
  },
  {
   "cell_type": "markdown",
   "metadata": {},
   "source": [
    "#### Answer\n",
    "```sql\n",
    "SELECT *\n",
    "FROM df\n",
    "WHERE (gender = 'M' AND hire_date < '2006-01-01' AND department = 'Pharmacy' AND region_id = 2)\n",
    "```"
   ]
  },
  {
   "cell_type": "markdown",
   "metadata": {},
   "source": [
    "## Nintendo\n",
    "\n",
    "Congrats! You've been hired by Nintendo as a video game sales analyst! Your first job is to retrieve the following information:\n",
    "- Find the distinct names of all the video games that were released after 2015 and made more than 1 million dollars\n",
    "- Nintendo has just created a new video game called Toad's cowboy adventures, insert a new row into the table with the following info\n",
    "    ```javascript\n",
    "    {\n",
    "        Rank: 26,\n",
    "        Name: Toad's cowboy adventures,\n",
    "        Platform: Switch,\n",
    "        Year: 2023,\n",
    "        Genre: Shooter,\n",
    "        Publisher: Nintendo,\n",
    "        NA_Sales: 0.56,\n",
    "        EU_Sales: 0.12,\n",
    "        JP_Sales: 1.45,\n",
    "        Other_Sales: 0.23,\n",
    "        Global_Sales: 2.36\n",
    "    }\n",
    "    ```\n",
    "- Nintendo got some new information about the game FIFA 14 on the 3DS platform, basically the japanese sales should be 0.09 rather than 0, update the row to reflect the new information\n",
    "- Nintendo wants to delete the game 'Mushi Bugyou' from its sales table, they feel that it performed very poorly and want to forget about it. Delete the row accordingly\n",
    "- In fact Nintendo wants to rid all the entries where they are the publisher and the global sales are less than a million dollars\n",
    "\n",
    "While the guided questions are over, if you have more time I would encourage you to explore the dataset by writing more queries!\n",
    "\n",
    "NOTE: Anything other than SELECT statements cannot be run in the notebook, use an online sql compiler such as this one: https://sqliteonline.com to test your code\n",
    "\n",
    "<img src=\"https://media.tenor.com/Pq2YmXIRgngAAAAM/scream-toad.gif\" alt=\"toad\" width=\"200\"/>"
   ]
  },
  {
   "cell_type": "code",
   "execution_count": null,
   "metadata": {},
   "outputs": [],
   "source": [
    "## Setup code do not edit\n",
    "\n",
    "!curl -L  https://rutgers.box.com/shared/static/bqkkbunoz9d92c62sfoh3dogrqmb0oue --output vg_sales.csv\n",
    "df = pd.read_csv(\"vg_sales.csv\")\n",
    "df.head()"
   ]
  },
  {
   "cell_type": "code",
   "execution_count": null,
   "metadata": {},
   "outputs": [],
   "source": [
    "# Find the distinct names of all the video games that were released after 2015 and made more than 1 million dollars\n",
    "\n",
    "query = \"\"\"\n",
    "### ENTER YOUR SQL QUERY HERE\n",
    "\"\"\"\n",
    "\n",
    "pysqldf(query)"
   ]
  },
  {
   "cell_type": "markdown",
   "metadata": {},
   "source": [
    "#### Answer\n",
    "```sql\n",
    "SElECT DISTINCT Name\n",
    "FROM df\n",
    "WHERE Year > 2015.0 and Global_Sales > 1\n",
    "```"
   ]
  },
  {
   "cell_type": "code",
   "execution_count": null,
   "metadata": {},
   "outputs": [],
   "source": [
    "# Nintendo has just created a new video game called Toad's cowboy adventures, \n",
    "# insert a new row into the table with the following info\n",
    "# {\n",
    "#     Rank: 26\n",
    "#     Name: Toad's cowboy adventures,\n",
    "#     Platform: Switch,\n",
    "#     Year: 2023,\n",
    "#     Genre: Shooter,\n",
    "#     Publisher: Nintendo,\n",
    "#     NA_Sales: 0.56,\n",
    "#     EU_Sales: 0.12,\n",
    "#     JP_Sales: 1.45,\n",
    "#     Other_Sales: 0.23,\n",
    "#     Global_Sales: 2.36\n",
    "# }\n",
    "\n",
    "# NOTE: This code will not actually run due to limitations of this notebook\n",
    "\n",
    "query = \"\"\"\n",
    "### ENTER YOUR SQL QUERY HERE\n",
    "\"\"\""
   ]
  },
  {
   "cell_type": "markdown",
   "metadata": {},
   "source": [
    "#### Answer\n",
    "```sql\n",
    "INSERT INTO df \n",
    "VALUES (26, 'Toads cowboy adventures', 'Switch', 2023, 'Shooter', 'Nintendo', 0.56, 0.12, 1.45, 0.23, 2.36);\n",
    "```"
   ]
  },
  {
   "cell_type": "code",
   "execution_count": null,
   "metadata": {},
   "outputs": [],
   "source": [
    "# Nintendo got some new information about the game FIFA 14 on the 3DS platform, basically the japanese sales \n",
    "# should be 0.09 rather than 0, update the row to reflect the new information\n",
    "\n",
    "# NOTE: This code will not actually run due to limitations of this notebook\n",
    "\n",
    "query = \"\"\"\n",
    "### ENTER YOUR SQL QUERY HERE\n",
    "\"\"\""
   ]
  },
  {
   "cell_type": "markdown",
   "metadata": {},
   "source": [
    "#### Answer\n",
    "\n",
    "```sql\n",
    "UPDATE df\n",
    "SET JP_Sales = 0.09\n",
    "WHERE Name = 'FIFA 14' AND Platform = '3DS'\n",
    "```"
   ]
  },
  {
   "cell_type": "code",
   "execution_count": null,
   "metadata": {},
   "outputs": [],
   "source": [
    "# Lastly Nintendo wants to delete the game 'Mushi Bugyou' from its sales table, they feel that it performed very \n",
    "# poorly and want to forget about it. Delete the row accordingly\n",
    "\n",
    "# NOTE: This code will not actually run due to limitations of this notebook\n",
    "\n",
    "query = \"\"\"\n",
    "### ENTER YOUR SQL QUERY HERE\n",
    "\"\"\""
   ]
  },
  {
   "cell_type": "markdown",
   "metadata": {},
   "source": [
    "#### Answer\n",
    "```sql\n",
    "DELETE FROM df \n",
    "WHERE Name = 'Mushi Bugyou'\n",
    "```"
   ]
  },
  {
   "cell_type": "code",
   "execution_count": null,
   "metadata": {},
   "outputs": [],
   "source": [
    "# In fact Nintendo wants to rid all the entries where they are the publisher and the global sales are less than \n",
    "# a million dollars\n",
    "\n",
    "# NOTE: This code will not actually run due to limitations of this notebook\n",
    "\n",
    "query = \"\"\"\n",
    "### ENTER YOUR SQL QUERY HERE\n",
    "\"\"\""
   ]
  },
  {
   "cell_type": "markdown",
   "metadata": {},
   "source": [
    "#### Answer\n",
    "```sql\n",
    "DELETE FROM vg_sales \n",
    "WHERE publisher = 'Nintendo' AND global_sales < 1\n",
    "```"
   ]
  }
 ],
 "metadata": {
  "kernelspec": {
   "display_name": "Python 3",
   "language": "python",
   "name": "python3"
  },
  "language_info": {
   "codemirror_mode": {
    "name": "ipython",
    "version": 3
   },
   "file_extension": ".py",
   "mimetype": "text/x-python",
   "name": "python",
   "nbconvert_exporter": "python",
   "pygments_lexer": "ipython3",
   "version": "3.10.7"
  }
 },
 "nbformat": 4,
 "nbformat_minor": 2
}
