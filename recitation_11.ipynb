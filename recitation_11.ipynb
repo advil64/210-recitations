{
  "cells": [
    {
      "cell_type": "markdown",
      "id": "44be838e-0fcd-427b-8057-6c71ec1055b6",
      "metadata": {
        "id": "44be838e-0fcd-427b-8057-6c71ec1055b6"
      },
      "source": [
        "# Recitation 11\n",
        "\n",
        "This week we'll do something a bit different. This notebook is meant to be a review of numpy, however most people learn how to use numpy for a different reason, machine learning, it wouldn't do justice to the library if we skip that now would it?\n",
        "\n",
        "<img src=\"https://media.tenor.com/Vz-Vjh01PTYAAAAM/is-it-ai-ai.gif\" alt=\"meme\" width=\"200\"/>"
      ]
    },
    {
      "cell_type": "markdown",
      "id": "6aeafdc1-f0bd-437f-a385-4106d2ab7341",
      "metadata": {
        "id": "6aeafdc1-f0bd-437f-a385-4106d2ab7341",
        "tags": []
      },
      "source": [
        "## A Brief Primer\n",
        "\n",
        "What we'll be doing today is an extremely simplified version of a \"fully connected neural network.\" Neural networks are pretty self explanatory (they're networks of neurons), however what is a neuron exactly? Well that's simple too, a neuron is just a weight that you multiply to some vector, in other words it's a simple function. Some very smart people in the 90s figured out that by layering this neurons on top of one another you can learn really precise details about your datasets and even learn \"non-linear\" featured, thus this method of learning was dubbed \"deep learning\". Alas that little intro doesn't do the subject nearly enough justice, so I'd recommend watching some videos on youtube so that you can learn from people way smarter than myself."
      ]
    },
    {
      "cell_type": "markdown",
      "id": "Mnq5l17bfWWj",
      "metadata": {
        "id": "Mnq5l17bfWWj"
      },
      "source": [
        "## Data Setup\n",
        "\n",
        "We'll start by using the famous mnist dataset that we'll convert into binary values 0 or 1 to make our life easier. These libraries come pre installed on colab, however please install them on your machine if you need them. The Binarized MNIST dataset here are digits from 0-9 in a 20x16 pixel grid, instructions on how to visualize them is provided below.\n",
        "\n",
        "For now use x and Y arrays without splitting into test/train where x are the actual features and y are the labels. If you are unfamiliar with test/train splits I'd recommend looking that up and being comfortable with the subject."
      ]
    },
    {
      "cell_type": "code",
      "execution_count": 11,
      "id": "kpPrtEmms0Es",
      "metadata": {
        "colab": {
          "base_uri": "https://localhost:8080/"
        },
        "id": "kpPrtEmms0Es",
        "outputId": "a093ba87-5f07-4d51-a430-90ca52896448"
      },
      "outputs": [
        {
          "name": "stdout",
          "output_type": "stream",
          "text": [
            "  % Total    % Received % Xferd  Average Speed   Time    Time     Time  Current\n",
            "                                 Dload  Upload   Total   Spent    Left  Speed\n",
            "100  519k  100  519k    0     0  1359k      0 --:--:-- --:--:-- --:--:-- 1357k\n"
          ]
        }
      ],
      "source": [
        "!curl -L  https://cs.nyu.edu/~roweis/data/binaryalphadigs.mat --output binaryalphadigs.mat"
      ]
    },
    {
      "cell_type": "code",
      "execution_count": 73,
      "id": "8UYQE4W1smth",
      "metadata": {
        "id": "8UYQE4W1smth"
      },
      "outputs": [],
      "source": [
        "import scipy.io\n",
        "import numpy as np\n",
        "\n",
        "x = []\n",
        "Y = []\n",
        "\n",
        "data = scipy.io.loadmat('binaryalphadigs.mat')\n",
        "for i in range(10):\n",
        "      label = data['classlabels'][0][i].item()\n",
        "      for j in range(len(data['dat'][i])):\n",
        "        image = data['dat'][i][j].reshape(20, 16, 1)\n",
        "        image = np.array(image)\n",
        "        reshaped_image = np.reshape(image, (20, 16))\n",
        "        x.append(reshaped_image)\n",
        "        Y.append(int(label))"
      ]
    },
    {
      "cell_type": "code",
      "execution_count": 74,
      "id": "rbpCA4EnvGZt",
      "metadata": {
        "colab": {
          "base_uri": "https://localhost:8080/",
          "height": 448
        },
        "id": "rbpCA4EnvGZt",
        "outputId": "3c5bc4b9-edb6-4ffb-dcd5-5ea5c71c8863"
      },
      "outputs": [
        {
          "name": "stdout",
          "output_type": "stream",
          "text": [
            "9\n"
          ]
        },
        {
          "data": {
            "image/png": "[encoded data removed]",
            "text/plain": [
              "<Figure size 640x480 with 1 Axes>"
            ]
          },
          "metadata": {},
          "output_type": "display_data"
        }
      ],
      "source": [
        "import matplotlib.pyplot as plt\n",
        "\n",
        "plt.imshow(x[389], cmap='gray', interpolation='nearest')\n",
        "print(Y[389])"
      ]
    },
    {
      "cell_type": "markdown",
      "id": "6xiZQbLrxZXX",
      "metadata": {
        "id": "6xiZQbLrxZXX"
      },
      "source": [
        "## Our First Problem!\n",
        "\n",
        "Though we have our 390 images of binarized digits from 0-9, how am I supposed to work with a two dimensional image?!? Think of other \"regression\" problems such as predicting house prices or test scores. We always get the features of an item as a \"vector\" and not as a matrix. This is because classifying a matrix is non-trivial.\n",
        "\n",
        "*An Aside* While there is absolutely a way we can classify these two dimensional matrix images directly, these are called convolutional neural networks, that's way beyond the scope of this class. However you're welcome to look into the subject in your own time.\n",
        "\n",
        "Therefore we now need to take our matrix inputs and convert them into vector inputs, if only there was an easy way to \"flatten\" all of our matrices... however we need to make them columns not rows so after flattening we can flip them"
      ]
    },
    {
      "cell_type": "code",
      "execution_count": 105,
      "id": "M11_8ehwyTSU",
      "metadata": {
        "id": "M11_8ehwyTSU"
      },
      "outputs": [],
      "source": [
        "flattned_x = [matrix.flatten().reshape(1, -1) for matrix in x]\n",
        "flattened_x = np.array(flattned_x)"
      ]
    },
    {
      "cell_type": "markdown",
      "id": "J8DqrnRX_Hg-",
      "metadata": {
        "id": "J8DqrnRX_Hg-"
      },
      "source": [
        "On that note we also need to convert our labels which are digits from 0-9 into a one hot encoding that look like the following:\n",
        "\n",
        "0 -> [1, 0, 0, 0, ...]\n",
        "\n",
        "...\n",
        "\n",
        "9-> [..., 1]"
      ]
    },
    {
      "cell_type": "code",
      "execution_count": 101,
      "id": "xub8K7of_Ylx",
      "metadata": {
        "id": "xub8K7of_Ylx"
      },
      "outputs": [],
      "source": [
        "one_hot_encoding = np.eye(10) # NOTE: Look into why this line is useful\n",
        "one_hot_array = np.array(one_hot_encoding)\n",
        "\n",
        "one_hot_Y = np.array([one_hot_array[i] for i in Y])"
      ]
    },
    {
      "cell_type": "markdown",
      "id": "pTj3oIZ5zHRJ",
      "metadata": {
        "id": "pTj3oIZ5zHRJ"
      },
      "source": [
        "## The Architecture\n",
        "\n",
        "Just like designing a house, a strong data scientist designs the best model for their needs. Different business needs would dictate different model designs, however in an effort to keep this task simple we will work with the bare minimum.\n",
        "\n",
        "We'll build a neural network model with three layers, an input, a hidden, and an output layer. Each layer will have a certain inputs and outputs, any guesses what the inputs of the first and the outputs of the final layer will be??\n",
        "\n",
        "**Input Layer** Here we simply take each pixel value from our digit input... that's literally it there's no math in this part. Our input layer is going to be a 1x320 input since there are 320 pixels in total.\n",
        "\n",
        "**W1** The weights in between the layers take the values from each neuron (there are 320 neurons in the first layer) and multiply it with some set of weights that we learn iteratively. The result of this matrix multiplication needs to be the size of the hidden layer.\n",
        "\n",
        "**Hidden Layer** It's called a hidden layer because, well it's hidden! After multiplying the first layer by the weights I want to be left with 120 neurons or values in this layer for each image. This means that the weights combine certain pixel values together in some smart way that we don't really need to worry about.\n",
        "\n",
        "**W2** A second set of weights need to transform the 120 neurons of the hidden layer into exactly 10 values\n",
        "\n",
        "**Output Layer** There are exactly 10 possibilities for out image, this layer should consist of 10 values which should be the probabilities/likelihoods of the given digits from 0-9.\n",
        "\n",
        "**Non Linearity** You'll also see that we use a sigmoid function below, this helps us understand the nonlinear relationship between the pixels and its class much better. The important part for now is understanding how to implement it, please look into why it's important in your own time. Without non linearity what we're doing simply becomes your good ole fashioned linear regression\n",
        "\n",
        "<img src=\"https://raw.githubusercontent.com/Codecademy/docs/main/media/sigmoid-function.png\" alt=\"meme\" width=\"400\"/>\n",
        "\n",
        "If this was a bit too much to understand please ask your TA for help!"
      ]
    },
    {
      "cell_type": "code",
      "execution_count": 77,
      "id": "f4Y0zsVV2MlH",
      "metadata": {
        "id": "f4Y0zsVV2MlH"
      },
      "outputs": [],
      "source": [
        "# Creating the Feed forward neural network\n",
        "# 1 Input layer(1, 320)\n",
        "# 1 hidden layer (1, 120)\n",
        "# 1 output layer(1, 10)\n",
        "\n",
        "def sigmoid(x):\n",
        "    return(1/(1 + np.exp(-x)))\n",
        "\n",
        "def f_forward(x, w1, w2):\n",
        "    # hidden\n",
        "    z1 = x.dot(w1)# input from layer 1\n",
        "    a1 = sigmoid(z1)# output of layer 2\n",
        "\n",
        "    # Output layer\n",
        "    z2 = a1.dot(w2)# input of out layer\n",
        "    a2 = sigmoid(z2)# output of out layer\n",
        "    return(a2)\n",
        "\n",
        "# The weights are the super important part, however at the start we can just\n",
        "# assign them random values since we don't know what they'll be\n",
        "def generate_wt(x, y):\n",
        "    l =[]\n",
        "    for i in range(x * y):\n",
        "        l.append(np.random.randn())\n",
        "    return(np.array(l).reshape(x, y))"
      ]
    },
    {
      "cell_type": "markdown",
      "id": "XdCcMJsX4Mzh",
      "metadata": {
        "id": "XdCcMJsX4Mzh"
      },
      "source": [
        "## Loss\n",
        "\n",
        "A loss function tells our model how well it has done in predicting classes, in our case it tells the model how well it has classified our digits into 0-9. To keep things simple we use the Mean Square Error loss, basically we look at the distance between our prediction and label and take the square of it then mean of all the values to figure out how good/bad our model is"
      ]
    },
    {
      "cell_type": "code",
      "execution_count": 78,
      "id": "Onhe7BO34sqC",
      "metadata": {
        "id": "Onhe7BO34sqC"
      },
      "outputs": [],
      "source": [
        "def loss(out, Y):\n",
        "    s =(np.square(out-Y))\n",
        "    s = np.sum(s)/len(Y)\n",
        "    return(s)"
      ]
    },
    {
      "cell_type": "markdown",
      "id": "oJAClmB64NIy",
      "metadata": {
        "id": "oJAClmB64NIy"
      },
      "source": [
        "## Backpropogation\n",
        "\n",
        "Understanding back propogation is the key to understanding how neural networks learn. Therefore, I've used the help of my handy AI friend to help explain.\n",
        "\n",
        "Imagine you're playing a video game, and your goal is to get the highest score. Now, let's say after each game, your friend gives you feedback on your performance. They point out where you made mistakes and suggest how you can improve.\n",
        "\n",
        "Backpropagation in the world of computers is a bit like that feedback process for a computer learning how to do a task, such as recognizing pictures of cats and dogs.\n",
        "\n",
        "Here's how it works:\n",
        "\n",
        "1. **Making Predictions:**\n",
        "   - Just like you're trying to predict the best moves in the game, a computer model makes predictions based on the input it gets. For example, it looks at a vector and tries to decide if it's a 0 or a 5.\n",
        "\n",
        "2. **Comparing Predictions to Reality:**\n",
        "   - After making a prediction, the computer checks it against the correct answer (like checking if you correctly identified the picture). If it got it wrong, it needs to figure out what went wrong.\n",
        "\n",
        "3. **Calculating Mistakes (Loss):**\n",
        "   - The computer calculates how far off its prediction was from the correct answer using the loss function we talked about earlier. This is like your friend giving you a score after each game.\n",
        "\n",
        "4. **Adjusting to Improve:**\n",
        "   - Now comes the cool part, backpropagation! The computer looks at the mistakes it made and figures out how it can adjust its \"strategies\" to do better next time. It's like you learning from your mistakes and trying a different approach in the game.\n",
        "\n",
        "5. **Updating the Model:**\n",
        "   - The computer updates its weights based on the mistakes it made. It's like tweaking the way it makes decisions so that it gets closer to the correct answer the next time.\n",
        "\n",
        "6. **Repeating the Process:**\n",
        "   - The computer repeats this process over and over. Each time it plays a \"game\" (makes predictions on a set of data), it learns from its mistakes and gets better.\n",
        "\n",
        "So, backpropagation is like a computer learning from its errors, adjusting its approach, and getting smarter and more accurate over time just like you do when playing a video game and trying to improve your score!\n",
        "\n",
        "The way it improves is by tweaking the weights repeatedly until it has reached some local maxima at which point it proclaims that it has done the best it can! This process is called gradient descent since we calculate the gradient of the given input and follow that gradient by taking steps until we reach the optimum value for the weights.\n",
        "\n",
        "At the end of the day, all we want to learn is the best way that we can transform a vector of 320 into a vector of 10."
      ]
    },
    {
      "cell_type": "code",
      "execution_count": 79,
      "id": "b930XDTL4Nf3",
      "metadata": {
        "id": "b930XDTL4Nf3"
      },
      "outputs": [],
      "source": [
        "def back_prop(x, Y, w1, w2, alpha):\n",
        "\n",
        "    # hidden layer\n",
        "    z1 = x.dot(w1)# input from layer 1\n",
        "    a1 = sigmoid(z1)# output of layer 2\n",
        "\n",
        "    # Output layer\n",
        "    z2 = a1.dot(w2)# input of out layer\n",
        "    a2 = sigmoid(z2)# output of out layer\n",
        "\n",
        "    # error in output layer\n",
        "    d2 =(a2-Y)\n",
        "\n",
        "    # The weights for the hidden layer are the more complex part, spend some time trying to\n",
        "    # understand this code basically we try to figure out how much error each neuron\n",
        "    # in the hidden layer is responsible for\n",
        "\n",
        "    # The second part is to make sure that we correctly identify both it being a certain\n",
        "    # class and also NOT being a certain class, the first is the assignment of blame,\n",
        "    # your TA will go into more detail\n",
        "    d1 = np.multiply((w2.dot((d2.transpose()))).transpose(), (np.multiply(a1, 1-a1)))\n",
        "\n",
        "    # Gradient for w1 and w2\n",
        "    w1_adj = x.transpose().dot(d1)\n",
        "    w2_adj = a1.transpose().dot(d2)\n",
        "\n",
        "    # Updating parameters\n",
        "    w1 = w1-(alpha*(w1_adj))\n",
        "    w2 = w2-(alpha*(w2_adj))\n",
        "\n",
        "    return(w1, w2)"
      ]
    },
    {
      "cell_type": "markdown",
      "id": "t-1PSPqs94XJ",
      "metadata": {
        "id": "t-1PSPqs94XJ"
      },
      "source": [
        "## Wrapping Up\n",
        "\n",
        "We finally need to bring it all together, let's write a train function, we set a limit for how many iterations we want to try to train our model (epochs)"
      ]
    },
    {
      "cell_type": "code",
      "execution_count": 111,
      "id": "wnXACrFU93OF",
      "metadata": {
        "id": "wnXACrFU93OF"
      },
      "outputs": [],
      "source": [
        "def train(x, Y, w1, w2, alpha = 0.01, epoch = 10):\n",
        "    acc =[]\n",
        "    losss =[]\n",
        "    for j in range(epoch):\n",
        "        l =[]\n",
        "        for i in range(len(x)):\n",
        "            out = f_forward(x[i], w1, w2)\n",
        "            l.append((loss(out, Y[i])))\n",
        "            w1, w2 = back_prop(x[i], Y[i], w1, w2, alpha)\n",
        "        print(\"epochs:\", j + 1, \"======== acc:\", (1-(sum(l)/len(x)))*100)\n",
        "        acc.append((1-(sum(l)/len(x)))*100)\n",
        "        losss.append(sum(l)/len(x))\n",
        "    return(acc, losss, w1, w2)\n",
        "\n",
        "def predict(x, w1, w2):\n",
        "    Out = f_forward(x, w1, w2)\n",
        "    maxm = 0\n",
        "    k = 0\n",
        "    for i in range(len(Out[0])):\n",
        "        if(maxm < Out[0][i]):\n",
        "            maxm = Out[0][i]\n",
        "            k = i\n",
        "    print(k)\n",
        "    plt.imshow(x.reshape(20, 16), cmap='gray', interpolation='nearest')\n",
        "    plt.show()"
      ]
    },
    {
      "cell_type": "code",
      "execution_count": 117,
      "id": "Y6MpDL6M-g4P",
      "metadata": {
        "colab": {
          "base_uri": "https://localhost:8080/"
        },
        "id": "Y6MpDL6M-g4P",
        "outputId": "a90d2cca-602c-46eb-d261-fd4888775350"
      },
      "outputs": [
        {
          "name": "stdout",
          "output_type": "stream",
          "text": [
            "epochs: 1 ======== acc: 97.98068816727906\n",
            "epochs: 2 ======== acc: 98.7395418515099\n",
            "epochs: 3 ======== acc: 99.14729848939221\n",
            "epochs: 4 ======== acc: 99.40902321814347\n",
            "epochs: 5 ======== acc: 99.55458427888809\n",
            "epochs: 6 ======== acc: 99.64894206408991\n",
            "epochs: 7 ======== acc: 99.7402402768996\n",
            "epochs: 8 ======== acc: 99.82838381688326\n",
            "epochs: 9 ======== acc: 99.867182373644\n",
            "epochs: 10 ======== acc: 99.89899991050717\n"
          ]
        }
      ],
      "source": [
        "w1 = generate_wt(320, 120)\n",
        "w2 = generate_wt(120, 10)\n",
        "\n",
        "acc, losss, w1, w2 = train(flattened_x, one_hot_Y, w1, w2, 0.1)"
      ]
    },
    {
      "cell_type": "code",
      "execution_count": 114,
      "id": "VFMI4hMOCITh",
      "metadata": {
        "colab": {
          "base_uri": "https://localhost:8080/",
          "height": 448
        },
        "id": "VFMI4hMOCITh",
        "outputId": "967e32d9-cb47-4b95-f994-e5e18f9f18f5"
      },
      "outputs": [
        {
          "name": "stdout",
          "output_type": "stream",
          "text": [
            "8\n"
          ]
        },
        {
          "data": {
            "image/png": "[encoded data removed]",
            "text/plain": [
              "<Figure size 640x480 with 1 Axes>"
            ]
          },
          "metadata": {},
          "output_type": "display_data"
        }
      ],
      "source": [
        "predict(flattened_x[320], w1, w2)"
      ]
    },
    {
      "cell_type": "markdown",
      "id": "cy1ByUitDa4X",
      "metadata": {
        "id": "cy1ByUitDa4X"
      },
      "source": [
        "## Credits\n",
        "\n",
        "Most of this code was taken from here: https://www.geeksforgeeks.org/implementation-of-neural-network-from-scratch-using-numpy/"
      ]
    }
  ],
  "metadata": {
    "colab": {
      "provenance": []
    },
    "kernelspec": {
      "display_name": "Python 3 (ipykernel)",
      "language": "python",
      "name": "python3"
    },
    "language_info": {
      "codemirror_mode": {
        "name": "ipython",
        "version": 3
      },
      "file_extension": ".py",
      "mimetype": "text/x-python",
      "name": "python",
      "nbconvert_exporter": "python",
      "pygments_lexer": "ipython3",
      "version": "3.11.3"
    }
  },
  "nbformat": 4,
  "nbformat_minor": 5
}
