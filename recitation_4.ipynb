{
 "cells": [
  {
   "cell_type": "markdown",
   "metadata": {},
   "source": [
    "# Recitation 4\n",
    "\n",
    "Welcome back! This recitation will cover Pandas!\n",
    "\n",
    "<img src=\"https://media.tenor.com/vcuiRF7K0GAAAAAd/panda-tumbles-down.gif\" alt=\"meme\" width=\"400\"/>"
   ]
  },
  {
   "cell_type": "markdown",
   "metadata": {},
   "source": [
    "## Weather Watchers\n",
    "\n",
    "The Rutgers Weather Watchers club needs your help... again! They need a python expert to conduct data analysis on a set of historical weather datapoints from the past year. Using the `weather_df` as defined below, write the appropriate pandas code to create the following dataframes\n",
    "\n",
    "- Min, Max, and Standard Deviation of the high temperatures in the past year along with the dates of the min and max\n",
    "- Create a new dataframe with all of the high temperatures that were above or below 95% of the other values (identify outliers) along with their dates\n",
    "- Do the same for the min temperatures\n",
    "- Sort the dataframe of temperatures from greatest to least using the high temperatures\n",
    "- Use the max values to reshape the array into rows of 7 days (1 row for each week), then find the average, minimum, and maximum temperatures in each week and return a np array of dimension 52x7 (Need to use numpy)\n",
    "- In statistics, the standard score is the number of standard deviations by which the value of a raw score is above or below the mean value of what is being observed or measured. Calculate the z-score for each observed point in the dataset, then return the outlier values and their dates (z-score of above 3 or below -3)\n",
    "- For each day, you need to calculate the average of the high temperatures in the previous 7 days using a rolling window"
   ]
  },
  {
   "cell_type": "code",
   "execution_count": null,
   "metadata": {},
   "outputs": [],
   "source": [
    "!pip3 install pandas\n",
    "!pip3 install numpy\n",
    "!pip3 install requests"
   ]
  },
  {
   "cell_type": "code",
   "execution_count": 1,
   "metadata": {},
   "outputs": [],
   "source": [
    "# Setup Code DO NOT EDIT!\n",
    "import requests\n",
    "import json\n",
    "import pandas as pd\n",
    "import numpy as np\n",
    "\n",
    "response = requests.get('https://archive-api.open-meteo.com/v1/era5?latitude=37.09&longitude=-95.71&start_date=2022-10-02&end_date=2023-09-30&daily=temperature_2m_max,temperature_2m_min&timezone=America%2FNew_York&temperature_unit=fahrenheit&windspeed_unit=mph&precipitation_unit=inch').text\n",
    "data = json.loads(response)\n",
    "weather_df = pd.DataFrame(data['daily'])\n",
    "\n",
    "weather_df.rename(columns={\"temperature_2m_max\": \"max_temp\", \"temperature_2m_min\": \"min_temp\"}, inplace=True)"
   ]
  },
  {
   "cell_type": "code",
   "execution_count": null,
   "metadata": {},
   "outputs": [],
   "source": [
    "# Find the min, max, std_dev, and average of the high temperatures in the past year along with the date when possible\n",
    "\n",
    "### ENTER CODE BELOW"
   ]
  },
  {
   "cell_type": "markdown",
   "metadata": {},
   "source": [
    "### Answer\n",
    "```python\n",
    "print('The lowest high temp in the past year')\n",
    "print(weather_df.loc[weather_df['max_temp'].idxmin()])\n",
    "\n",
    "print()\n",
    "\n",
    "print('The highest high temp in the past year')\n",
    "print(weather_df.loc[weather_df['max_temp'].idxmax()])\n",
    "\n",
    "print()\n",
    "\n",
    "print('The average high temperature: ' + str(weather_df['max_temp'].mean()))\n",
    "print('The standard deviation of the high temps: ' + str(weather_df['max_temp'].std()))\n",
    "```"
   ]
  },
  {
   "cell_type": "markdown",
   "metadata": {},
   "source": [
    "### Working With Quantiles\n",
    "<img src=\"https://www.investopedia.com/thmb/OAXAsui_5n_DqyLIIT7kZ_0VORA=/1500x0/filters:no_upscale():max_bytes(150000):strip_icc()/Standard-Deviation-ADD-SOURCE-e838b9dcfb89406e836ccad58278f4cd.jpg\" alt=\"meme\" width=\"500\"/>"
   ]
  },
  {
   "cell_type": "code",
   "execution_count": null,
   "metadata": {},
   "outputs": [],
   "source": [
    "# Create a new dataframe with all of the high temperatures that were above or below 95% of the other values \n",
    "# (identify outliers) along with their dates\n",
    "\n",
    "### ENTER CODE BELOW"
   ]
  },
  {
   "cell_type": "markdown",
   "metadata": {},
   "source": [
    "### Answer\n",
    "```python\n",
    "average_high_temp = weather_df['max_temp'].mean()\n",
    "std_dev_temp = weather_df['max_temp'].std()\n",
    "\n",
    "higher_quantile = average_high_temp + 2*std_dev_temp\n",
    "lower_quantile = average_high_temp - 2*std_dev_temp\n",
    "\n",
    "max_temp_outliers = weather_df[(weather_df['max_temp'] > higher_quantile) | (weather_df['max_temp'] < lower_quantile)]\n",
    "```"
   ]
  },
  {
   "cell_type": "code",
   "execution_count": null,
   "metadata": {},
   "outputs": [],
   "source": [
    "# Do the same for the min temperatures\n",
    "\n",
    "### ENTER CODE BELOW"
   ]
  },
  {
   "cell_type": "markdown",
   "metadata": {},
   "source": [
    "### Answer\n",
    "```python\n",
    "average_min_temp = weather_df['min_temp'].mean()\n",
    "std_dev_temp = weather_df['min_temp'].std()\n",
    "\n",
    "higher_quantile = average_min_temp + 2*std_dev_temp\n",
    "lower_quantile = average_min_temp - 2*std_dev_temp\n",
    "\n",
    "min_temp_outliers = weather_df[(weather_df['min_temp'] > higher_quantile) | (weather_df['min_temp'] < lower_quantile)]\n",
    "```"
   ]
  },
  {
   "cell_type": "markdown",
   "metadata": {},
   "source": [
    "### Sorting Dataframes\n",
    "<img src=\"https://upload.wikimedia.org/wikipedia/commons/e/ef/Sorting_shaker_sort_anim.gif\" alt=\"meme\" width=\"300\"/>"
   ]
  },
  {
   "cell_type": "code",
   "execution_count": null,
   "metadata": {},
   "outputs": [],
   "source": [
    "# Sort the dataframe of temperatures from greatest to least using the high temperatures\n",
    "\n",
    "### ENTER CODE BELOW"
   ]
  },
  {
   "cell_type": "markdown",
   "metadata": {},
   "source": [
    "### Answer\n",
    "```python\n",
    "weather_df.sort_values(by='max_temp', ascending=False)\n",
    "```"
   ]
  },
  {
   "cell_type": "code",
   "execution_count": null,
   "metadata": {},
   "outputs": [],
   "source": [
    "# Use the high temp values to reshape the array into rows of 7 days (1 row for each week), then find the \n",
    "# average, minimum, and maximum temperatures in each week and return a np array of dimension 52x7\n",
    "# then create a new df for your data\n",
    "\n",
    "### ENTER CODE BELOW"
   ]
  },
  {
   "cell_type": "markdown",
   "metadata": {},
   "source": [
    "#### Answer 1\n",
    "```python\n",
    "days_of_week = ['sunday', 'monday', 'tuesday', 'wednesday', 'thursday', 'friday', 'saturday']\n",
    "weekly_temp_df = pd.DataFrame(weather_df['max_temp'].values.reshape(52, 7), columns=days_of_week)\n",
    "\n",
    "weekly_temp_df['weekly_average'] = weekly_temp_df.mean(axis=1)\n",
    "weekly_temp_df['weekly_max'] = weekly_temp_df.max(axis=1)\n",
    "weekly_temp_df['weekly_min'] = weekly_temp_df.min(axis=1)\n",
    "```\n",
    "\n",
    "#### Answer 2\n",
    "```python\n",
    "roll = weather_df.rolling(window=7, step=7)\n",
    "weekly_averages = roll.agg(np.mean)\n",
    "weekly_max = roll.agg(np.max)\n",
    "weekly_min = roll.agg(np.min)\n",
    "```"
   ]
  },
  {
   "cell_type": "markdown",
   "metadata": {},
   "source": [
    "### Z-Scores!... Or Zed-scores if you're British\n",
    "<img src=\"https://www.investopedia.com/thmb/4Eba0h-H-ERNmdw8b0bbrMzUZgg=/1500x0/filters:no_upscale():max_bytes(150000):strip_icc()/Term-Definitions_zscore.aspsketch-3c68631c0479475f9bee1d6ecb0f4e23.jpg\" alt=\"meme\" width=\"500\"/>"
   ]
  },
  {
   "cell_type": "code",
   "execution_count": null,
   "metadata": {},
   "outputs": [],
   "source": [
    "# In statistics, the standard score is the number of standard deviations by which the value of a raw score is above or \n",
    "# below the mean value of what is being observed or measured. Calculate the z-score for each high temp point in the \n",
    "# dataset and add it as a new value in the dataframe, then return the outlier values and their dates (z-score of above \n",
    "# 3 or below -3... if there are none do the same for 2 and -2)\n",
    "\n",
    "### ENTER CODE BELOW"
   ]
  },
  {
   "cell_type": "markdown",
   "metadata": {},
   "source": [
    "#### Answer\n",
    "```python\n",
    "average_high_temp = weather_df['max_temp'].mean()\n",
    "std_dev_temp = weather_df['max_temp'].std()\n",
    "\n",
    "weather_df['high_temp_z_score'] = (weather_df['max_temp'] - average_high_temp)/std_dev_temp\n",
    "print(weather_df[weather_df['high_temp_z_score'] > 2])\n",
    "print()\n",
    "print(weather_df[weather_df['high_temp_z_score'] < -2])\n",
    "```"
   ]
  },
  {
   "cell_type": "code",
   "execution_count": null,
   "metadata": {},
   "outputs": [],
   "source": [
    "# For each day, you need to calculate the average of the high temperatures in the previous 7 days using a rolling window\n",
    "\n",
    "### ENTER CODE BELOW"
   ]
  },
  {
   "cell_type": "markdown",
   "metadata": {},
   "source": [
    "#### Answer\n",
    "\n",
    "```python\n",
    "roll = weather_df.rolling(window=7, min_periods=1)\n",
    "roll = roll.aggregate(np.mean)\n",
    "```"
   ]
  },
  {
   "cell_type": "markdown",
   "metadata": {},
   "source": [
    "## Sports Analytics\n",
    "\n",
    "Taylor Swift's team... I mean the Kansas City Chiefs have just hired you to be their brand new sports analytics scientist. They've given you the following tasks to finish:\n",
    "- Assign appropriate names to the unnamed columns and drop unnamed: 4\n",
    "- Remove the rows that do not have a result (Win or Loss)\n",
    "- Convert the win/loss column to be binary where the win is 1 and loss is 0, then count the number of wins Taylor.. I mean the Kansas City Chiefs had last season\n",
    "- Rutgers' very own Isiah Pacheco is a fantastic running back on the team, calculate the percentage of games that the Chiefs win when the rushing yards is above average\n",
    "- Taylor Swift's boy... I mean Travis Kelce and Patrick Mahomes are known to have a great rapport with each other, calculate the correlation between the passing yards of a game and its result\n",
    "- Any other things/correlations that you would like to measure, winning games in overtime, yards gained in first down, performance against specific teams, percentage of wins at home vs away etc.\n",
    "\n",
    "Make Taylor Proud!!\n",
    "\n",
    "<img src=\"https://media.tenor.com/13i592gjd6QAAAAM/taylor-swift-lfg.gif\" alt=\"meme\" width=\"200\"/>"
   ]
  },
  {
   "cell_type": "code",
   "execution_count": null,
   "metadata": {},
   "outputs": [],
   "source": [
    "!curl -L  https://rutgers.box.com/shared/static/56mwv2rbas3xbvqdv2fz0lu9wnw3am5j --output kc_data.csv\n",
    "kc_df = pd.read_csv('./kc_data.csv')"
   ]
  },
  {
   "cell_type": "code",
   "execution_count": null,
   "metadata": {},
   "outputs": [],
   "source": [
    "# Assign appropriate names to the unnamed columns and drop unnamed: 4\n",
    "# Also remove rows that do not have a Win or Loss\n",
    "\n",
    "### ENTER CODE BELOW"
   ]
  },
  {
   "cell_type": "markdown",
   "metadata": {},
   "source": [
    "#### Answer\n",
    "```python\n",
    "kc_df.drop('Unnamed: 4', axis=1, inplace=True)\n",
    "kc_df.rename(columns={\"Unnamed: 3\": \"time\", \"Unnamed: 5\": \"result\", \"Unnamed: 8\": \"Location\"}, inplace=True)\n",
    "kc_df.dropna(subset=['result'], inplace=True)\n",
    "```"
   ]
  },
  {
   "cell_type": "code",
   "execution_count": null,
   "metadata": {},
   "outputs": [],
   "source": [
    "# Convert the win/loss column to be binary where the win is 1 and loss is 0\n",
    "\n",
    "### ENTER CODE BELOW"
   ]
  },
  {
   "cell_type": "markdown",
   "metadata": {},
   "source": [
    "#### Answer\n",
    "```python\n",
    "kc_df['result'] = kc_df['result'].apply(lambda x: 1 if x == 'W' else 0)\n",
    "kc_df['result'].sum()\n",
    "```"
   ]
  },
  {
   "cell_type": "markdown",
   "metadata": {},
   "source": [
    "<img src=\"https://media.tenor.com/s1AiEM3r39AAAAAM/kansas-city-chiefs-royals_jun.gif\" alt=\"meme\" width=\"200\"/>"
   ]
  },
  {
   "cell_type": "code",
   "execution_count": null,
   "metadata": {},
   "outputs": [],
   "source": [
    "# Rutgers' very own Isiah Pacheco is a fantastic running back on the team, calculate the percentage of games that \n",
    "# the Chiefs win when the rushing yards is above average\n",
    "\n",
    "### ENTER CODE HERE"
   ]
  },
  {
   "cell_type": "markdown",
   "metadata": {},
   "source": [
    "#### Answer\n",
    "```python\n",
    "mean_rush_yd = kc_df['RushY'].mean()\n",
    "above_average_rush_games = kc_df[kc_df['RushY'] > mean_rush_yd]\n",
    "\n",
    "wins = above_average_rush_games['result'].sum()\n",
    "num_games_above_average = above_average_rush_games.shape[0]\n",
    "print('The Chiefs win ' + str(wins/num_games_above_average*100) + '% of games when their rushing is above average')\n",
    "```"
   ]
  },
  {
   "cell_type": "markdown",
   "metadata": {},
   "source": [
    "### A Brief Explainer on Pearson Correlation\n",
    "*Some of this may have been generated by chat gpt*\n",
    "\n",
    "The formula for the correlation coefficient is as follows:\n",
    "\n",
    "$r=\\frac{\\Sigma(x_i - \\bar{x})(y_i - \\bar{y})}{\\sqrt{\\Sigma(x_i - \\bar{x})^2\\Sigma(y_i - \\bar{y})^2}}$\n",
    "\n",
    "Where:\n",
    "\n",
    "- $r$ is the Pearson correlation coefficient.\n",
    "- $x_i$ and $y_i$ represent individual data points in the two datasets.\n",
    "- $\\bar{x}$ and $\\bar{y}$ are the means (averages) of the X and Y datasets, respectively. In our case x is the passing yards and y is the result of the game\n",
    "\n",
    "Here's a step-by-step breakdown of the formula:\n",
    "\n",
    "1. Calculate the mean $\\bar{x}$ and $\\bar{y}$ of the X and Y datasets, respectively\n",
    "2. For each data point, subtract the mean of its respective dataset: $x_i - \\bar{x}$ and $y_i - \\bar{y}$\n",
    "3. Multiply the differences obtained in step 2 for each data point: $(x_i - \\bar{x})(y_i - \\bar{y})$\n",
    "4. Sum up all the values from step 3 for all data points: $\\Sigma(x_i - \\bar{x})(y_i - \\bar{y})$\n",
    "5. Calculate the sum of the squares of the differences between each data point and its respective mean for both X and Y: $\\sqrt{\\Sigma(x_i - \\bar{x})^2\\Sigma(y_i - \\bar{y})^2}$\n",
    "6. Divide the result from step 4 by the result from step 5 to obtain the Pearson correlation coefficient ($r$).\n",
    "The Pearson correlation coefficient $r$ ranges from -1 to 1:\n",
    "\n",
    "If $r$ is close to 1, it indicates a strong positive linear relationship between X and Y. This happens because in the formula, when two high numbers are multiplied against each other, the numerator will be pretty large.\n",
    "\n",
    "If $r$ is close to -1, it indicates a strong negative linear relationship between X and Y. This happens because in the formula, if a number is smaller than its average it will be negative, and when a positive and negative are multiplied against each other in the numerator you're left with a negative value\n",
    "\n",
    "If $r$ is close to 0, it indicates a weak or no linear relationship between X and Y. There is little to no linear correlation between the variables. And this happens when all the values are around the average and there really is no relationship between them, or when summing up you sum up both negative and positive values (points are scattered)\n",
    "\n",
    "In summary, the Pearson correlation coefficient measures how well the data points of two variables align along a straight line. It's a valuable tool for understanding the degree and direction of the linear association between two sets of data."
   ]
  },
  {
   "cell_type": "code",
   "execution_count": null,
   "metadata": {},
   "outputs": [],
   "source": [
    "# Taylor Swift's boy... I mean Travis Kelce and Patrick Mahomes are known to have a great rapport with each other, \n",
    "# calculate the correlation between the passing yards of a game and its result\n",
    "\n",
    "### ENTER CODE HERE"
   ]
  },
  {
   "cell_type": "markdown",
   "metadata": {},
   "source": [
    "#### Answer\n",
    "```python\n",
    "correlation = kc_df['PassY'].corr(kc_df['result']\n",
    "print('Correlation between passing yards and the result is: ' + str(correlation)))\n",
    "```"
   ]
  }
 ],
 "metadata": {
  "kernelspec": {
   "display_name": "Python 3",
   "language": "python",
   "name": "python3"
  },
  "language_info": {
   "codemirror_mode": {
    "name": "ipython",
    "version": 3
   },
   "file_extension": ".py",
   "mimetype": "text/x-python",
   "name": "python",
   "nbconvert_exporter": "python",
   "pygments_lexer": "ipython3",
   "version": "3.10.7"
  },
  "orig_nbformat": 4
 },
 "nbformat": 4,
 "nbformat_minor": 2
}
