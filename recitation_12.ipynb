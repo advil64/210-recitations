{
 "cells": [
  {
   "cell_type": "markdown",
   "metadata": {},
   "source": [
    "# Recitation 12\n",
    "\n",
    "It's our final recitation together! It has been a pleasure to be your TA this semester, and though there were some ups and downs, I hope you were able to learn something from the class! Please make sure to fill out the SIRS Survey here: https://rutgers.bluera.com/rutgers. For our final week we'll end with a fun topic, JSON (Java Script Object Notation) and how it works with APIs in Python\n",
    "\n",
    "From Halloween 2023\n",
    "\n",
    "<img src=\"https://rutgers.box.com/shared/static/nsq4kletv5mli8ibpxm0dn3oee379t6k.jpg\" alt=\"halloween-picture\" width=\"250\"/>"
   ]
  },
  {
   "cell_type": "markdown",
   "metadata": {},
   "source": [
    "## Gotta Catch em All!\n",
    "\n",
    "You've been recently hired as Professor Oak's Lead Data Science Pokemon Researcher congrats! He needs to push a software update to the pokedexes in the Canto region, and he needs your help to get updated information. Use the documentation from the PokeAPI here -> https://pokeapi.co/docs/v2 to help you do the following tasks. *Hint*: Make sure to pretty print when you are printing a json object\n",
    "\n",
    "- Retrieve information for the following pokemon, then store your info in a dict and write it to a JSON file. Starter code is given below\n",
    "    1. **Charizard** (Fire/Flying) - Kanto Region\n",
    "    2. **Lanturn** (Water/Electric) - Johto Region\n",
    "    3. **Sceptile** (Grass) - Hoenn Region\n",
    "    4. **Lucario** (Fighting/Steel) - Sinnoh Region\n",
    "    5. **Chandelure** (Ghost/Fire) - Unova Region\n",
    "    6. **Greninja** (Water/Dark) - Kalos Region\n",
    "    7. **Decidueye** (Grass/Ghost) - Alola Region\n",
    "    8. **Corviknight** (Flying/Steel) - Galar Region\n",
    "    9. **Boltund** (Electric) - Galar Region\n",
    "    10. **Silicobra** (Ground) - Galar Region\n",
    "- Read from the JSON file that you have just saved, then find the strongest move that each pokemon has the ability to learn, pay attention to the `url` key in the moves list\n",
    "- Your favorite pokemon trainer Ash Ketchum is currently traveling through multiple regions looking for the above pokemon, use the `location_area_encounters` key in each pokemon and check if any of the pokemon can be found and where they can be found. Save this file to be sent to Ash.\n",
    "- Lastly, you want to know how to get every pokemon in the list. Loop through the pokemon and check if said pokemon has a previous evolution, then use the `trigger` key to figure out how to evolve the pokemon. Store this information in a new dictionary. Then print the evolution methods in a nice print statement\n",
    "\n",
    "<img src=\"https://media.tenor.com/4s6S60RxJacAAAAd/wooper-pokemon.gif\" alt=\"halloween-picture\" width=\"250\"/>"
   ]
  },
  {
   "cell_type": "code",
   "execution_count": null,
   "metadata": {},
   "outputs": [],
   "source": [
    "# Query the api for each pokemon, save json in a dict, write the file to your folder\n",
    "\n",
    "### ENTER CODE BELOW\n",
    "\n",
    "import requests\n",
    "import json\n",
    "\n",
    "pokemon = [\"charizard\", \"lanturn\", \"sceptile\", \"lucario\", \"chandelure\", \"greninja\", \"decidueye\", \"corviknight\", \"boltund\", \"silicobra\"]\n",
    "\n",
    "url = \"https://pokeapi.co/api/v2/pokemon/\"\n",
    "response = requests.get().json()\n",
    "poke_data = json.loads(response)\n",
    "\n",
    "# print(json.dumps(json_object, indent = 1)) <- pretty printing"
   ]
  },
  {
   "cell_type": "markdown",
   "metadata": {},
   "source": [
    "### Answer\n",
    "\n",
    "```python\n",
    "\n",
    "import requests\n",
    "import json\n",
    "\n",
    "pokemon = [\"charizard\", \"lanturn\", \"sceptile\", \"lucario\", \"chandelure\", \"greninja\", \"decidueye\", \"corviknight\", \"boltund\", \"silicobra\"]\n",
    "poke_data = {}\n",
    "\n",
    "for p in pokemon:\n",
    "    url = \"https://pokeapi.co/api/v2/pokemon/\" + p\n",
    "    try:\n",
    "        response = requests.get(url).json()\n",
    "        poke_data.update({p: json.loads(response)})\n",
    "    except:\n",
    "        print(\"API Error \" + url)\n",
    "\n",
    "with open('./poke_data.json', 'w') as json_file:\n",
    "    json.dump(poke_data, json_file)\n",
    "```"
   ]
  },
  {
   "cell_type": "code",
   "execution_count": null,
   "metadata": {},
   "outputs": [],
   "source": [
    "# Read from the JSON file that you have just saved, then find the strongest move that each pokemon has the ability to learn, \n",
    "# pay attention to the `url` key in the moves list\n",
    "\n",
    "### ENTER CODE BELOW"
   ]
  },
  {
   "cell_type": "markdown",
   "metadata": {},
   "source": [
    "### Answer\n",
    "\n",
    "```python\n",
    "\n",
    "import json\n",
    "import requests\n",
    "\n",
    "def get_strongest_move(pokemon_data):\n",
    "    moves = pokemon_data.get('moves', [])\n",
    "    \n",
    "    if not moves:\n",
    "        print(\"Could not get moves\")\n",
    "        return None\n",
    "    \n",
    "    # Initialize variables to store the strongest move information\n",
    "    strongest_move_name = None\n",
    "    strongest_move_power = 0\n",
    "    \n",
    "    for m in moves:\n",
    "        move = m['move']\n",
    "        move_url = move['url']\n",
    "        if move_url:\n",
    "            move_data = requests.get(move_url).json()\n",
    "            move_power = move_data.get('power', 0)\n",
    "\n",
    "            # handle None value\n",
    "            if move_power:\n",
    "                move_power = int(move_power)\n",
    "            else:\n",
    "                move_power = 0\n",
    "            \n",
    "            # Update the strongest move if the current move is more powerful\n",
    "            if move_power > strongest_move_power:\n",
    "                strongest_move_power = move_power\n",
    "                strongest_move_name = move_data.get('name', 'Unknown')\n",
    "    \n",
    "    return strongest_move_name, strongest_move_power\n",
    "\n",
    "# Load the saved Pokemon data from the JSON file\n",
    "file_path = './poke_data.json'\n",
    "with open(file_path, 'r') as json_file:\n",
    "    poke_data = json.load(json_file)\n",
    "\n",
    "# Iterate through each Pokemon and find the strongest move\n",
    "for poke_name, data in poke_data.items():\n",
    "    move_name, power = get_strongest_move(data)\n",
    "    print(f\"{poke_name}'s strongest move is {move_name} with power {power}\")\n",
    "```\n",
    "\n",
    "**Q**: Why does your code take so long? Do you notice how a lot of the pokemon share the moves that they can learn? How can we make this code faster by saving certain moves locally?\n",
    "\n",
    "**Q**: How can we change the code to find the second best move? Third best?\n"
   ]
  },
  {
   "cell_type": "code",
   "execution_count": null,
   "metadata": {},
   "outputs": [],
   "source": [
    "# Your favorite pokemon trainer Ash Ketchum is currently traveling through multiple regions looking for the above pokemon, use the \n",
    "# `location_area_encounters` key in each pokemon and check if any of the pokemon can be found and where they can be found. Save this file to be sent to Ash.\n",
    "\n",
    "### ENTER CODE BELOW"
   ]
  },
  {
   "cell_type": "markdown",
   "metadata": {},
   "source": [
    "```python\n",
    "\n",
    "locations_info = {}\n",
    "\n",
    "for poke_name, data in poke_data.items():\n",
    "    location_info = requests.get(data['location_area_encounters']).json()\n",
    "    versions = set()\n",
    "    locations = []\n",
    "    if location_info:\n",
    "        for l in location_info:\n",
    "            for v in l['version_details']:\n",
    "                versions.add(v['version']['name'])\n",
    "            locations.append(l['location_area']['name'])\n",
    "    locations_info.update({poke_name: {'game_versions': list(versions), 'locations': locations}})\n",
    "                \n",
    "\n",
    "with open(\"./poke_locations.json\", 'w') as json_file:\n",
    "    json.dump(locations_info, json_file)\n",
    "```"
   ]
  },
  {
   "cell_type": "code",
   "execution_count": null,
   "metadata": {},
   "outputs": [],
   "source": [
    "# Lastly, you want to know how to get every pokemon in the list. Loop through the pokemon and check if said pokemon has a \n",
    "# previous evolution, then use the `trigger` key to figure out how to evolve the pokemon. Store this information in a new \n",
    "# dictionary. Then print the evolution methods in a nice print statement\n",
    "\n",
    "### ENTER CODE BELOW"
   ]
  },
  {
   "cell_type": "markdown",
   "metadata": {},
   "source": [
    "### Answer\n",
    "\n",
    "```python\n",
    "\n",
    "import requests\n",
    "import json\n",
    "\n",
    "\n",
    "def get_evolution_chain(pokemon_species_url):\n",
    "    response = requests.get(pokemon_species_url)\n",
    "    data = response.json()\n",
    "\n",
    "    evolution_chain_url = data['evolution_chain']['url']\n",
    "    evolution_chain_data = requests.get(evolution_chain_url).json()\n",
    "\n",
    "    return evolution_chain_data['chain']\n",
    "\n",
    "\n",
    "def extract_evolution_info(evolution_chain, evolution_info=None):\n",
    "    if evolution_info is None:\n",
    "        evolution_info = {}\n",
    "\n",
    "    species_name = evolution_chain['species']['name']\n",
    "    evolution_info[species_name] = {}\n",
    "\n",
    "    for evolution_detail in evolution_chain.get('evolution_details', []):\n",
    "        trigger_name = evolution_detail['trigger']['name']\n",
    "        min_level = evolution_detail.get('min_level', None)\n",
    "        item = evolution_detail.get('item', None)\n",
    "\n",
    "        evolution_info[species_name][trigger_name] = {\n",
    "            'min_level': min_level,\n",
    "            'item': item\n",
    "        }\n",
    "\n",
    "    for evolves_to in evolution_chain.get('evolves_to', []):\n",
    "        extract_evolution_info(evolves_to, evolution_info[species_name])\n",
    "\n",
    "    return evolution_info\n",
    "\n",
    "evolution_info = {}\n",
    "for poke_name, data in poke_data.items():\n",
    "    evolution_chain_data = get_evolution_chain(data['species']['url'])\n",
    "    extract_evolution_info(evolution_chain_data, evolution_info)\n",
    "\n",
    "print(json.dumps(evolution_info, indent=1))\n",
    "```\n",
    "\n",
    "**Q**: Why do we use a recursive function to retrieve all of the data? How can we avoid using recursion in this situation? *Hint* look up how to flatten JSON in python"
   ]
  },
  {
   "cell_type": "markdown",
   "metadata": {},
   "source": [
    "### Flattned Version\n",
    "\n",
    "```python\n",
    "\n",
    "import requests\n",
    "import json\n",
    "\n",
    "\n",
    "def get_evolution_chain(pokemon_species_url):\n",
    "    response = requests.get(pokemon_species_url)\n",
    "    data = response.json()\n",
    "\n",
    "    evolution_chain_url = data['evolution_chain']['url']\n",
    "    evolution_chain_data = requests.get(evolution_chain_url).json()\n",
    "\n",
    "    return evolution_chain_data['chain']\n",
    "\n",
    "\n",
    "def extract_evolution_info(evolution_chain, evolution_info=None):\n",
    "    if evolution_info is None:\n",
    "        evolution_info = []\n",
    "\n",
    "    species_name = evolution_chain['species']['name']\n",
    "    curr_evolution_info = {}\n",
    "    curr_evolution_info[species_name] = {}\n",
    "\n",
    "    for evolution_detail in evolution_chain.get('evolution_details', []):\n",
    "        trigger_name = evolution_detail['trigger']['name']\n",
    "        min_level = evolution_detail.get('min_level', None)\n",
    "        item = evolution_detail.get('item', None)\n",
    "\n",
    "        curr_evolution_info[species_name][trigger_name] = {\n",
    "            'min_level': min_level,\n",
    "            'item': item\n",
    "        }\n",
    "    evolution_info.append(curr_evolution_info)\n",
    "    for evolves_to in evolution_chain.get('evolves_to', []):\n",
    "        extract_evolution_info(evolves_to, evolution_info)\n",
    "\n",
    "    return evolution_info\n",
    "\n",
    "comp_evolution_info = []\n",
    "for poke_name, data in poke_data.items():\n",
    "    evolution_info = []\n",
    "    evolution_chain_data = get_evolution_chain(data['species']['url'])\n",
    "    comp_evolution_info.append(extract_evolution_info(evolution_chain_data, evolution_info))\n",
    "\n",
    "evolution_lines = []\n",
    "for c in comp_evolution_info:\n",
    "    e_l = []\n",
    "    for p in c:\n",
    "        for k, v in p.items():\n",
    "            e_l.append(k)\n",
    "    evolution_lines.append(e_l)\n",
    "\n",
    "```"
   ]
  },
  {
   "cell_type": "markdown",
   "metadata": {},
   "source": [
    "## Your Restaurant Critic Era\n",
    "\n",
    "You might be surprised to hear it, but JSON files work perfectly fine with pandas! For this task we will work with the yelp_businesses.json file.\n",
    "- The file has a small issue however, it needs to be read in line by line, go ahead and do that first, populate each line into a list called `data`\n",
    "- Read the data using pandas and name the dataframe `yelp_df`\n",
    "- If you call the `head` function on the dataframe, you'll see that there is nested data in the attributes column, you can work with nested data in pandas using the `json_normalize()` function from pandas"
   ]
  },
  {
   "cell_type": "code",
   "execution_count": null,
   "metadata": {},
   "outputs": [],
   "source": [
    "!curl -L  https://rutgers.box.com/shared/static/wtt1oz9nw8h0xeuztekj45dghhud37uz --output yelp_businesses.json\n",
    "import pandas as pd\n",
    "pd.set_option('display.max_columns', None)"
   ]
  },
  {
   "cell_type": "code",
   "execution_count": null,
   "metadata": {},
   "outputs": [],
   "source": [
    "# The file has a small issue however, it needs to be read in line by line, go ahead and do that first, populate each line \n",
    "# into a list called `data`\n",
    "\n",
    "### ENTER CODE BELOW"
   ]
  },
  {
   "cell_type": "markdown",
   "metadata": {},
   "source": [
    "### Answer\n",
    "```python\n",
    "\n",
    "with open(\"./yelp_businesses.json\", 'r') as data_file:\n",
    "    data = []\n",
    "    for line in data_file:\n",
    "        data.append(json.loads(line))\n",
    "```"
   ]
  },
  {
   "cell_type": "code",
   "execution_count": null,
   "metadata": {},
   "outputs": [],
   "source": [
    "# Read the data using pandas and name the dataframe `yelp_df`\n",
    "\n",
    "### ENTER CODE BELOW"
   ]
  },
  {
   "cell_type": "markdown",
   "metadata": {},
   "source": [
    "### Answer\n",
    "```python\n",
    "\n",
    "yelp_df = pd.DataFrame(data)\n",
    "```"
   ]
  },
  {
   "cell_type": "code",
   "execution_count": null,
   "metadata": {},
   "outputs": [],
   "source": [
    "# Normalize the json data\n",
    "\n",
    "### ENTER CODE BELOW"
   ]
  },
  {
   "cell_type": "markdown",
   "metadata": {},
   "source": [
    "### Answer\n",
    "```python\n",
    "yelp_df = pd.json_normalize(data)\n",
    "yelp_df.head()\n",
    "```"
   ]
  },
  {
   "cell_type": "markdown",
   "metadata": {},
   "source": [
    "Since this is the last recitation, I'll take it easy and call it a day. This is a good time to recap the semester, please ask any questions that you might have lingering. Additionally, it's a good time to go through previous recitation notebooks and check your understanding on all of them (except recitation_11 since that was more of a tangential one). Have a great winter break y'all!"
   ]
  }
 ],
 "metadata": {
  "kernelspec": {
   "display_name": "Python 3",
   "language": "python",
   "name": "python3"
  },
  "language_info": {
   "codemirror_mode": {
    "name": "ipython",
    "version": 3
   },
   "file_extension": ".py",
   "mimetype": "text/x-python",
   "name": "python",
   "nbconvert_exporter": "python",
   "pygments_lexer": "ipython3",
   "version": "3.9.6"
  },
  "orig_nbformat": 4
 },
 "nbformat": 4,
 "nbformat_minor": 2
}
