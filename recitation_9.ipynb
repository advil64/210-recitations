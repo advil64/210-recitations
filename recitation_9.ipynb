{
 "cells": [
  {
   "cell_type": "markdown",
   "metadata": {},
   "source": [
    "# Recitation 9\n",
    "\n",
    "A new week and a new topic! This week we'll learn about the exciting world of regular expressions!"
   ]
  },
  {
   "cell_type": "markdown",
   "metadata": {},
   "source": [
    "## Setup Code\n",
    "\n",
    "Do Not Edit!"
   ]
  },
  {
   "cell_type": "code",
   "execution_count": null,
   "metadata": {},
   "outputs": [],
   "source": [
    "!curl -L  https://rutgers.box.com/shared/static/87qfobled1tg6artzx3xoyqpyp521thg --output russian_articles.zip\n",
    "!unzip russian_articles.zip -d ./"
   ]
  },
  {
   "cell_type": "markdown",
   "metadata": {},
   "source": [
    "## Mission: Slightly Easier than Impossible\n",
    "\n",
    "The US government has just recruited you to be the new Russian Fake News Article Counterintelligence Data Science Regex Officer, congrats it's a great honor! Write the appropriate code for the below tasks.\n",
    "- Your boss Joe Biden wants to figure out which links to warn twitter users about. Your first task is to compile a set of all the links that appear in these articles. Starter code has been provided for you, read in the contents of each file into one large string then extract and compile every link you find into one list.\n",
    "- Links in HTML come in all shapes and sizes, but we want to filter links that specifically link to pages outside of the current webpage. These links can be identified with the `https://` at the start of the link or with `www` somewhere inside of the link, filter the set to only include these\n",
    "- Lastly extract the username of the facebook and other social links that you find using regex\n",
    "\n",
    "<img src=\"https://media.tenor.com/_vGJ8tJsTBoAAAAM/listening-what.gif\" alt=\"meme\" width=\"200\"/>"
   ]
  },
  {
   "cell_type": "code",
   "execution_count": null,
   "metadata": {},
   "outputs": [],
   "source": [
    "# compile a list of all the links that appear in these articles. Starter code has been provided for you, read in the \n",
    "# contents of each file into one large string then extract and compile every link you find into one list.\n",
    "import os\n",
    "import re\n",
    "\n",
    "folder_path = './russian_articles'\n",
    "file_list = os.listdir(folder_path)\n",
    "\n",
    "# NOTE: links in html always look like the following, write this pattern so that you capture the link between the\n",
    "# quotes <a href=\"some link here\">some text here</a>\n",
    "link_pattern = \"\"\n",
    "links = set()\n",
    "\n",
    "for filename in file_list:\n",
    "    file_path = os.path.join(folder_path, filename)\n",
    "    \n",
    "    if os.path.isfile(file_path):\n",
    "        pass # loop through each file and find all the links in each file"
   ]
  },
  {
   "cell_type": "markdown",
   "metadata": {},
   "source": [
    "### Answer\n",
    "```python\n",
    "import os\n",
    "import re\n",
    "\n",
    "folder_path = './russian_articles'\n",
    "file_list = os.listdir(folder_path)\n",
    "\n",
    "# NOTE: links in html always look like the following, write this pattern so that you capture the link between the\n",
    "# quotes <a href=\"some link here\">some text here</a>\n",
    "link_pattern = '.*<a.*href=\"(.*?)\".*?'\n",
    "links = set()\n",
    "\n",
    "for filename in file_list:\n",
    "    file_path = os.path.join(folder_path, filename)\n",
    "    \n",
    "    if os.path.isfile(file_path):\n",
    "        with open(file_path, 'r') as file:\n",
    "\n",
    "            ### ERROR HANDLING\n",
    "            try:\n",
    "                file_contents = file.read()\n",
    "            except:\n",
    "                continue\n",
    "            ###\n",
    "\n",
    "            res = re.findall(link_pattern, file_contents)\n",
    "            for link in res:\n",
    "                links.add(link)\n",
    "print(links)\n",
    "```\n",
    "#### Questions: \n",
    "- What does the * represent in regex?\n",
    "- Why do we have the parenthesis and `?` in our pattern? What happens if we get rid of `?`?\n",
    "- What is the different between `findall()` and `match()`? What are some other ways you could have solved this question?\n",
    "- Why does `findall()` take so long to run "
   ]
  },
  {
   "cell_type": "code",
   "execution_count": null,
   "metadata": {},
   "outputs": [],
   "source": [
    "# Links in HTML come in all shapes and sizes, but we want to filter links that specifically link to pages outside of the \n",
    "# current webpage. These links can be identified with the `https://` at the start of the link or with `www` somewhere inside \n",
    "# of the link, filter the set to only include these\n",
    "\n",
    "### YOUR CODE GOES HERE"
   ]
  },
  {
   "cell_type": "markdown",
   "metadata": {},
   "source": [
    "### Answer\n",
    "\n",
    "```python\n",
    "pattern = r'((^https://|.*?www).*?)'\n",
    "web_links = []\n",
    "\n",
    "for link in links:\n",
    "    match = re.match(pattern, link)\n",
    "    if match:\n",
    "        web_links.append(link)\n",
    "print(web_links)\n",
    "```\n",
    "#### Questions\n",
    "- What do we use the `^` symbol for here?\n",
    "- Also we have two separate patterns here, what is the `|` doing?"
   ]
  },
  {
   "cell_type": "code",
   "execution_count": null,
   "metadata": {},
   "outputs": [],
   "source": [
    "# Lastly extract the username of the facebook and other social links that you find using regex\n",
    "\n",
    "### YOUR CODE GOES HERE"
   ]
  },
  {
   "cell_type": "markdown",
   "metadata": {},
   "source": [
    "### Answer\n",
    "\n",
    "```python\n",
    "# Define a regular expression pattern to extract usernames from Facebook links\n",
    "# NOTE: Usernames can only contain alphanumeric characters (A–Z, 0–9) and periods (\".\") and _\n",
    "patterns = [r'.*facebook\\.com/([\\w\\d._]+)', r'.*tiktok\\.com/@([\\w\\d._]+)', r'.*instagram\\.com/([\\w\\d._]+)', r'.*twitter\\.com/([\\w\\d._]+)']\n",
    "usernames = []\n",
    "for link in web_links:\n",
    "    for p in patterns:\n",
    "        res = re.match(p, link)\n",
    "        if res:\n",
    "            usernames.append(res.group(1))\n",
    "\n",
    "print(usernames)\n",
    "```"
   ]
  },
  {
   "cell_type": "markdown",
   "metadata": {},
   "source": [
    "## joemama.com\n",
    "\n",
    "You and your roomate are ready to launch your dorm room startup \"joemama.com\" a website to sell your your friend Joe's mom's ugly christmas sweaters online!\n",
    "\n",
    "However, before you launch the site, you need to complete the following methods below.\n",
    "\n",
    "- **checkEmail**: Write a Python program to check that the user inputs a valid email, You MUST use special regular expression sequences to match predefined sets of characters. Each email follows this example: username@domain.com, it also *cannot* have any spaces in it so check for that too.\n",
    "- **checkPhoneNumber**: Joe's mom would like to send her clients special discounts for other festivities too! She plans to make sweaters for the Chinese New Year, Diwali, Hannukah, Kwanza and much more! To help her expand her business, check that clients input a valid phone number.\n",
    "- **checkAddress**: Joe's mom needs to know where to send the sweaters to! Help her make sure that the addresses are correct, we don't want sweaters to get lost! Each address follows this example: 83 Rutgers Way, New Brunswick NJ 08901 (check for other variants if you have time such as for apartments)\n",
    "- **captureAddress**: To split shipping into specific regions, Joe's mom would like to capture the street, state and zipcode of each address and return it as a dictionary\n",
    "- **thankYouNote**: Joe's mom would like to thank her client for supporting her small business by writing them a notecard. Given a person's full name, write them a nice note using back referencing thanking them for their business. Use this template \"Dear {firstname} {lastname}, Thank you for your order on joemama.com, I greatly appreciate your business and my son Joe appreciates it as well. I hope my sweaters bring joy to the whole {lastname} family and a special happy holidays to you {firstname}.\"\n",
    "\n",
    "<*Insert Mariah Carey meme here*>"
   ]
  },
  {
   "cell_type": "code",
   "execution_count": null,
   "metadata": {},
   "outputs": [],
   "source": [
    "# check that clients input a valid phone email\n",
    "def checkEmail(email):\n",
    "  pass"
   ]
  },
  {
   "cell_type": "markdown",
   "metadata": {},
   "source": [
    "### Answer\n",
    "```python\n",
    "def checkEmail(email):\n",
    "    return re.search(r'\\w+@[a-z]+.(com|edu|org)', email) is not None\n",
    "```"
   ]
  },
  {
   "cell_type": "code",
   "execution_count": null,
   "metadata": {},
   "outputs": [],
   "source": [
    "# check that clients input a valid phone number\n",
    "def checkPhone(number):\n",
    "    pass"
   ]
  },
  {
   "cell_type": "markdown",
   "metadata": {},
   "source": [
    "### Answer\n",
    "```python\n",
    "def checkPhone(number):\n",
    "    return re.search(r'\\d{3}-\\d{3}-\\d{4}', number) is not None\n",
    "```"
   ]
  },
  {
   "cell_type": "code",
   "execution_count": null,
   "metadata": {},
   "outputs": [],
   "source": [
    "# Help her make sure that the addresses are correct\n",
    "def checkAddress(address):\n",
    "  pass"
   ]
  },
  {
   "cell_type": "markdown",
   "metadata": {},
   "source": [
    "## Answer\n",
    "\n",
    "```python\n",
    "def checkAddress(address):\n",
    "  return re.search(r'\\d+\\s.*,\\s.*\\s[A-Z]{2}\\s\\d{5}', address) is not None\n",
    "```"
   ]
  },
  {
   "cell_type": "code",
   "execution_count": null,
   "metadata": {},
   "outputs": [],
   "source": [
    "# To split shipping into specific regions, Joe's mom would like to capture the street, state and zipcode of each address \n",
    "# and return it as a dictionary (this is straight from the lecture)\n",
    "\n",
    "def groupAddress(address):\n",
    "    pass"
   ]
  },
  {
   "cell_type": "markdown",
   "metadata": {},
   "source": [
    "### Answer\n",
    "\n",
    "```python\n",
    "def groupAddress(address):\n",
    "  split_addy = {}\n",
    "  groups = re.search(r'(\\d+)\\s(.*),\\s(.*)\\s([A-Z]{2})\\s(\\d{5})', address)\n",
    "  split_addy.update({\n",
    "    'Full Address': groups.group(0),\n",
    "    'Street Number': groups.group(1),\n",
    "    'Street': groups.group(2),\n",
    "    'City': groups.group(3),\n",
    "    'State': groups.group(4),\n",
    "    'Zip': groups.group(5)\n",
    "  })\n",
    "  return split_addy\n",
    "print(groupAddress('83 Rutgers Way, New Brunswick NJ 08901'))\n",
    "```"
   ]
  },
  {
   "cell_type": "code",
   "execution_count": null,
   "metadata": {},
   "outputs": [],
   "source": [
    "# Use this template \"Dear {firstname} {lastname}, Thank you for your order on joemama.com, I greatly appreciate \n",
    "# your business and my son Joe appreciates it as well. I hope my sweaters bring joy to the whole {lastname} family \n",
    "# and a special happy holidays to you {firstname}.\n",
    "\n",
    "def thankYouNote(fullname):\n",
    "    pass"
   ]
  },
  {
   "cell_type": "markdown",
   "metadata": {},
   "source": [
    "### Answer\n",
    "\n",
    "```python\n",
    "def thankYouNote(fullname):\n",
    "  groups = re.search(r'([a-zA-Z]+)\\s([a-zA-Z]+)', fullname)\n",
    "  firstname = groups.group(1)\n",
    "  lastname = groups.group(2)\n",
    "  note = f'Dear {firstname} {lastname}, Thank you for your joemama.com, I greatly appreciate your business and my son Joe appreciates it as well. I hope my sweaters bring joy to the whole {lastname} family and a special happy holidays to you {firstname}.'\n",
    "  return note\n",
    "```"
   ]
  }
 ],
 "metadata": {
  "kernelspec": {
   "display_name": "Python 3",
   "language": "python",
   "name": "python3"
  },
  "language_info": {
   "codemirror_mode": {
    "name": "ipython",
    "version": 3
   },
   "file_extension": ".py",
   "mimetype": "text/x-python",
   "name": "python",
   "nbconvert_exporter": "python",
   "pygments_lexer": "ipython3",
   "version": "3.10.7"
  }
 },
 "nbformat": 4,
 "nbformat_minor": 2
}
