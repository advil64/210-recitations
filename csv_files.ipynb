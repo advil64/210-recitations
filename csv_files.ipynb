{
 "cells": [
  {
   "cell_type": "markdown",
   "metadata": {},
   "source": [
    "# Recitation 7\n",
    "\n",
    "This week we will go over how to work with reading/writing CSV files. Happy early Halloween!"
   ]
  },
  {
   "cell_type": "code",
   "execution_count": null,
   "metadata": {},
   "outputs": [],
   "source": [
    "!curl -L  https://rutgers.box.com/shared/static/r4tvnv8hxa0ze3przujngdcz8ezcj61a --output witnesses.csv\n",
    "import csv"
   ]
  },
  {
   "cell_type": "markdown",
   "metadata": {},
   "source": [
    "## Breaking Bad (Rutgers' Version)\n",
    "\n",
    "You just accepted an offer with the office of Saul Goodman, Attorney at Law Congrats! Your first task is to redact this witnesses csv document listing the witnesses of a murder investigation. \n",
    "- Replace all the digits in the addresses with **** but leave any letters\n",
    "- Replace the digits in the phone number with *\n",
    "- Replace the email user name with ****\n",
    "- Output the redacted file with the name redacted_witnesses.csv\n",
    "\n",
    "Your boss Saul Goodman would also like to know where most of the witnesses live... just for educational purposes\n",
    "- Find the most common state mentioned in the CSV file\n",
    "\n",
    "Lastly Saul has asked to find all the witnesses who work for law firms, return a list of all the witnesses who have any of the following key words in the company_name column\n",
    "- Esq\n",
    "- Law\n",
    "- Attorney\n",
    "\n",
    "<img src=\"https://media.tenor.com/yg7X7jx8kowAAAAd/my-reaction-to-that-information-saul-goodman.gif\" alt=\"meme\" width=\"200\"/>"
   ]
  },
  {
   "cell_type": "code",
   "execution_count": null,
   "metadata": {},
   "outputs": [],
   "source": [
    "def redact_address(address):\n",
    "    pass\n",
    "\n",
    "def redact_phone(phone):\n",
    "    pass\n",
    "\n",
    "def redact_email(email):\n",
    "    pass"
   ]
  },
  {
   "cell_type": "markdown",
   "metadata": {},
   "source": [
    "### Task 1 Redaction\n",
    "```python\n",
    "def redact_address(address):\n",
    "    words = address.split()\n",
    "    redacted_words = []\n",
    "    for word in words:\n",
    "        if word.isalpha():\n",
    "            redacted_words.append(word)\n",
    "        else:\n",
    "            redacted_words.append('*****')\n",
    "    return ' '.join(redacted_words)\n",
    "\n",
    "def redact_phone(phone):\n",
    "    redacted_phone = ''.join(['*' if c.isdigit() else c for c in phone])\n",
    "    return redacted_phone\n",
    "\n",
    "def redact_email(email):\n",
    "    user_name, domain = email.split('@')\n",
    "    redacted_email = '****@' + domain\n",
    "    return redacted_email\n",
    "\n",
    "with open(\"witnesses.csv\", 'r') as infile, open(\"redacted_witnesses.csv\", 'w', newline='') as outfile:\n",
    "    reader = csv.DictReader(infile)\n",
    "    fieldnames = reader.fieldnames\n",
    "    writer = csv.DictWriter(outfile, fieldnames=fieldnames)\n",
    "    writer.writeheader()\n",
    "\n",
    "    for row in reader:\n",
    "        # Redact the address, phone, and email fields\n",
    "        row['address'] = redact_address(row['address'])\n",
    "        row['phone1'] = redact_phone(row['phone1'])\n",
    "        row['phone2'] = redact_phone(row['phone2'])\n",
    "        row['email'] = redact_email(row['email'])\n",
    "        writer.writerow(row)\n",
    "```"
   ]
  },
  {
   "cell_type": "code",
   "execution_count": null,
   "metadata": {},
   "outputs": [],
   "source": [
    "## Find the most common state mentioned in the CSV file"
   ]
  },
  {
   "cell_type": "markdown",
   "metadata": {},
   "source": [
    "### Task 2 Most Popular State Answer\n",
    "```python\n",
    "states = {}\n",
    "with open(\"witnesses.csv\", 'r') as infile:\n",
    "    reader = csv.DictReader(infile)\n",
    "    for row in reader:\n",
    "        states.update({row['state']: states.get(row['state'], 0) + 1})\n",
    "\n",
    "most_common_state = max(states, key=lambda s: states[s])\n",
    "print(f\"Most common state mentioned: {most_common_state}\")\n",
    "```\n",
    "*Question:* While a lambda function is certainly not necessary here, it helps cut down on the amount of code that we write. Discuss some other solutions here rather than using a lambda function."
   ]
  },
  {
   "cell_type": "code",
   "execution_count": null,
   "metadata": {},
   "outputs": [],
   "source": [
    "# Return a list of all the witnesses who have any of the following key words in the company_name column: Esq, Law, Attorney"
   ]
  },
  {
   "cell_type": "markdown",
   "metadata": {},
   "source": [
    "### Task 3 Lawyer Employees Answer\n",
    "\n",
    "```python\n",
    "law_firm_keywords = ['Esq', 'Law', 'Attorney']\n",
    "law_firm_witnesses = []\n",
    "\n",
    "with open(\"witnesses.csv\", 'r') as redacted_file:\n",
    "    reader = csv.DictReader(redacted_file)\n",
    "    for row in reader:\n",
    "        company_name = row['company_name']\n",
    "        for keyword in law_firm_keywords:\n",
    "            if keyword in company_name:\n",
    "                law_firm_witnesses.append(row)\n",
    "\n",
    "print(\"Witnesses who work for law firms:\")\n",
    "for witness in law_firm_witnesses:\n",
    "    print(f\"{witness['first_name']} {witness['last_name']}, {witness['company_name']}\")\n",
    "```\n",
    "*Question:* Can we use list comprehension or the map function to cut down on the amount of code in the forloop? Discuss amongst yourselves"
   ]
  },
  {
   "cell_type": "code",
   "execution_count": null,
   "metadata": {},
   "outputs": [],
   "source": [
    "!curl -L  https://rutgers.box.com/shared/static/uwan8c054x7a2i9b5l3gt5laoymgfqg1 --output spotify.csv"
   ]
  },
  {
   "cell_type": "markdown",
   "metadata": {},
   "source": [
    "## Spotify Pop Song Extravaganza!\n",
    "\n",
    "Ever watch RuPaul's Drag Race and wonder who decided the *lip sync for your life* songs? Yeah super niche, I know, but you've just been hired by the production crew as the new RuPaul's Drag Race Lip Sync for Your Life Song Senior Analyst.\n",
    "- Find songs with a danceability score of over 0.95 and print the names of the songs and the link to it, additionally write the row to a new csv file, add a column to the link of the spotify song, the link can be generated by adding 'https://open.spotify.com/track/' in front of the spotify track ID. Do the same with the album_id column except this time add 'https://open.spotify.com/album/' before the track_album id.\n",
    "- Take the CSV file that you just created and load it into a pandas dataframe, then sort this dataframe based on the track popularity column and print the head and tail so that we can view the least and most popular songs\n",
    "- Your boss RuPaul is interested as to why Taylor Swift's discography has been so popular amongst every demographic of people, look at songs by Taylor Swift and print the average speechiness, acousticness, instrumentalness, liveness, valence, tempo, and duration_ms\n",
    "\n",
    "<img src=\"https://media.tenor.com/VGRDkgs5YAkAAAAM/iconic-rupaul.gif\" alt=\"meme\" width=\"200\"/>"
   ]
  },
  {
   "cell_type": "code",
   "execution_count": null,
   "metadata": {},
   "outputs": [],
   "source": [
    "### Do some magic here"
   ]
  },
  {
   "cell_type": "markdown",
   "metadata": {},
   "source": [
    "### Task 1 Find Danceable Songs Answer\n",
    "```python\n",
    "most_danceable_songs = []\n",
    "\n",
    "with open(\"spotify.csv\", 'r', newline='') as infile, open(\"spotify_links.csv\", 'w', newline='') as outfile:\n",
    "    data_with_links = []\n",
    "    reader = csv.DictReader(infile)\n",
    "    fieldnames = reader.fieldnames\n",
    "    fieldnames.extend([\"track_link\", \"album_link\"])\n",
    "    new_rows = []\n",
    "    \n",
    "    for row in reader:\n",
    "        # Convert danceability to a float for comparison\n",
    "        danceability = float(row[\"danceability\"])\n",
    "        \n",
    "        # Check if danceability is 100\n",
    "        if danceability >= 0.95:\n",
    "            # Construct the Spotify song and album links\n",
    "            spotify_song_link = f\"https://open.spotify.com/track/{row['track_id']}\"\n",
    "            spotify_album_link = f\"https://open.spotify.com/album/{row['track_album_id']}\"\n",
    "\n",
    "            filtered_data = row\n",
    "            filtered_data.update({\n",
    "                \"track_link\": spotify_song_link,\n",
    "                \"album_link\": spotify_album_link\n",
    "            })\n",
    "            new_rows.append(row)\n",
    "            most_danceable_songs.append((row['track_name'], spotify_song_link))\n",
    "    writer = csv.DictWriter(outfile, fieldnames=fieldnames)\n",
    "    writer.writeheader()\n",
    "    writer.writerows(new_rows)\n",
    "\n",
    "print(\"Songs with danceability score of 100:\")\n",
    "for song in most_danceable_songs:\n",
    "    print(f\"{song[0]} {song[1]}\")\n",
    "```"
   ]
  },
  {
   "cell_type": "code",
   "execution_count": null,
   "metadata": {},
   "outputs": [],
   "source": [
    "# Take the CSV file that you just created and load it into a pandas dataframe, then sort this dataframe based on the track popularity column and print \n",
    "# the head and tail so that we can view the least and most popular songs"
   ]
  },
  {
   "cell_type": "markdown",
   "metadata": {},
   "source": [
    "### Task 2 Sort Songs by Popularity Answer\n",
    "```python\n",
    "import pandas as pd\n",
    "songs_df = pd.read_csv('./spotify_links.csv')\n",
    "\n",
    "sorted_songs_df = songs_df.sort_values(by='track_popularity', ascending=False)\n",
    "sorted_songs_df.head()\n",
    "```\n",
    "*Question:* Why is it that the highest rank is 81? Should it not be 100? What did we modify?"
   ]
  },
  {
   "cell_type": "code",
   "execution_count": null,
   "metadata": {},
   "outputs": [],
   "source": [
    "# Your boss RuPaul is interested as to why Taylor Swift's discography has been so popular amongst every demographic of people, look at songs by \n",
    "# Taylor Swift and print the average speechiness, acousticness, instrumentalness, liveness, valence, tempo, and duration_ms"
   ]
  },
  {
   "cell_type": "markdown",
   "metadata": {},
   "source": [
    "### Task 3 Uncovering Taylor Swift Answer\n",
    "```python\n",
    "keys = ['speechiness', 'acousticness', 'instrumentalness', 'liveness', 'valence', 'tempo', 'duration_ms']\n",
    "count = 0\n",
    "sums = {key: 0 for key in keys}\n",
    "\n",
    "with open(\"spotify.csv\", 'r', newline='') as infile:\n",
    "    data_with_links = []\n",
    "    reader = csv.DictReader(infile)\n",
    "    fieldnames = reader.fieldnames\n",
    "    \n",
    "    for row in reader:\n",
    "        if row['track_artist'] == 'Taylor Swift':\n",
    "            for k in keys:\n",
    "                sums[k] += float(row[k])\n",
    "                count += 1\n",
    "\n",
    "print(\"Taylor Swift's stats: \")\n",
    "for k in keys:\n",
    "    print(f'Average {k}: {sums[k]/count}')\n",
    "```"
   ]
  }
 ],
 "metadata": {
  "kernelspec": {
   "display_name": "Python 3",
   "language": "python",
   "name": "python3"
  },
  "language_info": {
   "codemirror_mode": {
    "name": "ipython",
    "version": 3
   },
   "file_extension": ".py",
   "mimetype": "text/x-python",
   "name": "python",
   "nbconvert_exporter": "python",
   "pygments_lexer": "ipython3",
   "version": "3.10.12"
  },
  "orig_nbformat": 4
 },
 "nbformat": 4,
 "nbformat_minor": 2
}
