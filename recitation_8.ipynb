{
 "cells": [
  {
   "cell_type": "markdown",
   "metadata": {},
   "source": [
    "# Recitation 8\n",
    "\n",
    "Welcome back enthusiastic data science learners, this week we'll go over some more SQL and more specifically SQL joins."
   ]
  },
  {
   "cell_type": "markdown",
   "metadata": {},
   "source": [
    "### Setup Code\n",
    "\n",
    "Because using a local mysql server can be tricky for everyone to follow along with, we'll use a nifty library that allows you to run SQL statements on a pandas data frame. It's called `pandasql` and you can find more info about it here: https://pypi.org/project/pandasql/. This notebook works for sure on google colab (https://colab.research.google.com/) so if you're unable to run on your local machine, you can try at the link provided"
   ]
  },
  {
   "cell_type": "code",
   "execution_count": null,
   "metadata": {},
   "outputs": [],
   "source": [
    "!pip install -U pandasql\n",
    "!pip install SQLAlchemy==1.4.46"
   ]
  },
  {
   "cell_type": "code",
   "execution_count": null,
   "metadata": {},
   "outputs": [],
   "source": [
    "from pandasql import sqldf\n",
    "import pandas as pd\n",
    "\n",
    "pysqldf = lambda q: sqldf(q, globals())\n",
    "pd.options.display.max_columns = None\n",
    "pd.set_option('display.max_colwidth', None)"
   ]
  },
  {
   "cell_type": "code",
   "execution_count": null,
   "metadata": {},
   "outputs": [],
   "source": [
    "!curl -L  https://rutgers.box.com/shared/static/ynnwivc9xjvn1ooeltmmsyfjwsjt3te5 --output social_media.zip\n",
    "!unzip social_media.zip -d ./social_media\n",
    "insta = pd.read_csv(\"./social_media/social media influencers - instagram.csv\")\n",
    "tiktok = pd.read_csv(\"./social_media/social media influencers - tiktok.csv\")\n",
    "youtube = pd.read_csv(\"./social_media/social media influencers - youtube.csv\")"
   ]
  },
  {
   "cell_type": "markdown",
   "metadata": {},
   "source": [
    "## What're Thoooooose?\n",
    "\n",
    "Infamous billionaire Elon Musk has just purchased the now defunct social media platform Vine and is attempting to poach influencers from other platforms. He has just hired you to be the new Vine Social Media Marketing Data Science Influencer Analytics Manager, write the appropriate queries to answer these questions.\n",
    "- First look over and familiarize yourself with the columns and contents of the tables\n",
    "- Next join the insta and tiktok tables together such that the \"Tiktok name\" and \"instagram name\" are the same, if there are mismatching values in either table, we want to omit that row\n",
    "- Now join the youtube table as well on the column \"youtuber name\"\n",
    "- Your boss Elon is unhappy however, he wants to join the Tiktok and insta tables together but he doesn't want to loose the Tiktok rows that don't have the same username as insta, instead he wants the new insta columns of these rows to be NULL\n",
    "- Lastly take your query from the inner join of tiktok and instagram influencers, then create a new column called fans which is the sum of the youtube subscribers and tiktok followers that an account has, finally sort the table based on this new column\n",
    "- Additionally spend some time trying to look at popular channels with followings from different countries such as Germany, India and more. It's interesting to see the type of content that is popular around the world\n",
    "\n",
    "<img src=\"https://i.makeagif.com/media/9-24-2015/GBVCN9.gif\" alt=\"meme\" width=\"200\"/>"
   ]
  },
  {
   "cell_type": "code",
   "execution_count": null,
   "metadata": {},
   "outputs": [],
   "source": [
    "# Look over and familiarize yourself with the columns and contents of the tables\n",
    "\n",
    "query = \"\"\"\n",
    "### ENTER YOUR SQL QUERY HERE\n",
    "\"\"\"\n",
    "\n",
    "pysqldf(query)"
   ]
  },
  {
   "cell_type": "markdown",
   "metadata": {},
   "source": [
    "#### Answer\n",
    "```sql\n",
    "SELECT *\n",
    "FROM insta\n",
    "```\n",
    "\n",
    "```sql\n",
    "SELECT *\n",
    "FROM youtube\n",
    "```\n",
    "\n",
    "```sql\n",
    "SELECT *\n",
    "FROM tiktok\n",
    "```"
   ]
  },
  {
   "cell_type": "markdown",
   "metadata": {},
   "source": [
    "### INNER JOIN\n",
    "\n",
    "<img src=\"https://s33046.pcdn.co/wp-content/uploads/2019/06/venn-diagram-representation-of-sql-inner-join-.png\" alt=\"meme\" width=\"400\"/>\n",
    "\n",
    "\n",
    "An inner join is an operation in relational database that combines rows from two or more tables based on a related column between them. The result of an inner join includes only the rows that have matching values in both tables' specified columns. In other words, it returns the intersection of the data in the two tables."
   ]
  },
  {
   "cell_type": "code",
   "execution_count": null,
   "metadata": {},
   "outputs": [],
   "source": [
    "# Next join the insta and tiktok tables together such that the \"Tiktok name\" and \"instagram name\" are the same, \n",
    "# if there are mismatching values in either table, we want to omit that row\n",
    "\n",
    "query = \"\"\"\n",
    "### ENTER YOUR SQL QUERY HERE\n",
    "\"\"\"\n",
    "\n",
    "pysqldf(query)"
   ]
  },
  {
   "cell_type": "markdown",
   "metadata": {},
   "source": [
    "#### Answer\n",
    "```sql\n",
    "SELECT *\n",
    "FROM insta\n",
    "INNER JOIN tiktok on \"Tiktok name\" = \"instagram name\"\n",
    "```"
   ]
  },
  {
   "cell_type": "code",
   "execution_count": null,
   "metadata": {},
   "outputs": [],
   "source": [
    "# Now join the youtube table as well on the column \"youtuber name\"\n",
    "\n",
    "query = \"\"\"\n",
    "### ENTER YOUR SQL QUERY HERE\n",
    "\"\"\"\n",
    "\n",
    "pysqldf(query)"
   ]
  },
  {
   "cell_type": "markdown",
   "metadata": {},
   "source": [
    "#### Answer\n",
    "```sql\n",
    "SELECT *\n",
    "FROM insta\n",
    "INNER JOIN tiktok on \"Tiktok name\" = \"instagram name\"\n",
    "INNER JOIN youtube on \"youtuber name\" = \"instagram name\"\n",
    "```\n",
    "Q: Why do the number of rows keep decreasing?"
   ]
  },
  {
   "cell_type": "markdown",
   "metadata": {},
   "source": [
    "### OUTER JOINS\n",
    "\n",
    "<img src=\"https://miro.medium.com/v2/resize:fit:1358/1*kGuUJxJwsuiLRa5pL3bsCA.png\" alt=\"meme\" width=\"400\"/>\n",
    "\n",
    "An outer join is another type of operation in relational database that combines rows from two or more tables based on a related column, like an inner join. However, unlike an inner join that returns only the rows with matching values in both tables, an outer join includes rows from at least one of the tables even if there are no matching values in the other table. Outer joins are used to retrieve data from tables while preserving unmatched rows from one or both tables.\n",
    "\n",
    "There are three types of outer joins:\n",
    "\n",
    "- Left Outer Join (or Left Join): A left outer join returns all the rows from the left table and the matched rows from the right table. If there is no match in the right table, NULL values are returned for the columns from the right table.\n",
    "\n",
    "- Right Outer Join (or Right Join): A right outer join is essentially the opposite of the left outer join. It returns all the rows from the right table and the matched rows from the left table. If there is no match in the left table, NULL values are returned for the columns from the left table.\n",
    "\n",
    "- Full Outer Join (or Full Join): A full outer join returns all the rows from both tables. If there is a match, the columns are filled with the matched values. If there is no match in one or both tables, NULL values are returned for the columns from the table(s) with no match."
   ]
  },
  {
   "cell_type": "code",
   "execution_count": null,
   "metadata": {},
   "outputs": [],
   "source": [
    "# Your boss Elon is unhappy however, he wants to join the Tiktok and insta tables together but he doesn't want to loose \n",
    "# the Tiktok rows that don't have the same username as insta, instead he wants the new insta columns of these rows to be NULL\n",
    "\n",
    "query = \"\"\"\n",
    "### ENTER YOUR SQL QUERY HERE\n",
    "\"\"\"\n",
    "\n",
    "pysqldf(query)"
   ]
  },
  {
   "cell_type": "markdown",
   "metadata": {},
   "source": [
    "#### Answer\n",
    "```sql\n",
    "SELECT *\n",
    "FROM tiktok\n",
    "LEFT OUTER JOIN insta on \"Tiktok name\" = \"instagram name\"\n",
    "```\n",
    "See how the rows don't decrease this time?"
   ]
  },
  {
   "cell_type": "code",
   "execution_count": null,
   "metadata": {},
   "outputs": [],
   "source": [
    "# Lastly take your query from the inner join of tiktok and instagram influencers, then create a new column called fans \n",
    "# which is the sum of the youtube followers and tiktok subscribers that an account has, finally sort the table based on \n",
    "# this new column\n",
    "\n",
    "query = \"\"\"\n",
    "### ENTER YOUR SQL QUERY HERE\n",
    "\"\"\"\n",
    "\n",
    "pysqldf(query)"
   ]
  },
  {
   "cell_type": "markdown",
   "metadata": {},
   "source": [
    "#### Answer\n",
    "```sql\n",
    "SELECT \"instagram name\" as insta_user, \"Tiktoker name\" as tiktok_user, Followers + \"Subscribers count\" as fans_m\n",
    "FROM insta\n",
    "INNER JOIN tiktok ON \"Tiktok name\" = \"instagram name\"\n",
    "ORDER BY fans_m DESC\n",
    "```\n",
    "Q: Why are there duplicate rows? Spend some time to look into the cause of this issue, you can use the `UNIQUE` query to omit repeats if wanted"
   ]
  },
  {
   "cell_type": "code",
   "execution_count": null,
   "metadata": {},
   "outputs": [],
   "source": [
    "!curl -L  https://rutgers.box.com/shared/static/y0eert6f5723t4bc4cqcqp3kpw83j375 --output friends.csv\n",
    "friends = pd.read_csv(\"./friends.csv\")"
   ]
  },
  {
   "cell_type": "markdown",
   "metadata": {},
   "source": [
    "## Friends :)\n",
    "\n",
    "I [Advith] grew up on this show, and I hope y'all enjoy these problems\n",
    "\n",
    "- Like always the first step is to look at the table that you're working with\n",
    "- I want to get all the episodes where Chandler is mentioned in the summary, then I want to sort it by the highest stars to the lowest\n",
    "- Friends was known for its unique naming convention where each each episode starts with \"The one...\", I want to get the number of episodes that don't follow this convention\n",
    "- Find the average Stars of each season, hint: you need to use grouping for this\n",
    "- If time permits just have fun playing around with this and the previous datasets!\n",
    "\n",
    "<img src=\"https://media.tenor.com/65okjDiw1vUAAAAd/hug-friends.gif\" alt=\"toad\" width=\"200\"/>"
   ]
  },
  {
   "cell_type": "code",
   "execution_count": null,
   "metadata": {},
   "outputs": [],
   "source": [
    "# Find the distinct names of all the video games that were released after 2015 and made more than 1 million dollars\n",
    "\n",
    "query = \"\"\"\n",
    "### ENTER YOUR SQL QUERY HERE\n",
    "\"\"\"\n",
    "\n",
    "pysqldf(query)"
   ]
  },
  {
   "cell_type": "markdown",
   "metadata": {},
   "source": [
    "#### Answer\n",
    "```sql\n",
    "SELECT *\n",
    "FROM friends\n",
    "```"
   ]
  },
  {
   "cell_type": "code",
   "execution_count": null,
   "metadata": {},
   "outputs": [],
   "source": [
    "# I want to get all the episodes where Chandler is mentioned in the summary, then I want to sort it by the highest stars to\n",
    "# the lowest\n",
    "\n",
    "query = \"\"\"\n",
    "### ENTER YOUR SQL QUERY HERE\n",
    "\"\"\"\n",
    "\n",
    "pysqldf(query)"
   ]
  },
  {
   "cell_type": "markdown",
   "metadata": {},
   "source": [
    "#### Answer\n",
    "```sql\n",
    "SELECT *\n",
    "FROM friends\n",
    "WHERE SUMMARY LIKE \"%Chandler%\"\n",
    "ORDER BY Stars DESC\n",
    "```"
   ]
  },
  {
   "cell_type": "code",
   "execution_count": null,
   "metadata": {},
   "outputs": [],
   "source": [
    "# Friends was known for its unique naming convention where each each episode starts with \"The one...\", I want to get \n",
    "# the number of episodes that don't follow this convention\n",
    "\n",
    "query = \"\"\"\n",
    "### ENTER YOUR SQL QUERY HERE\n",
    "\"\"\"\n",
    "\n",
    "pysqldf(query)"
   ]
  },
  {
   "cell_type": "markdown",
   "metadata": {},
   "source": [
    "#### Answer\n",
    "\n",
    "```sql\n",
    "SELECT COUNT(*)\n",
    "FROM friends\n",
    "WHERE Episode_Title NOT LIKE \"The one%\"\n",
    "```"
   ]
  },
  {
   "cell_type": "markdown",
   "metadata": {},
   "source": [
    "### Grouping\n",
    "\n",
    "We'll probably learn more about grouping as the semester rolls along, but basically grouping is a process used to group rows from a table based on the values in one or more columns. It's often used in conjunction with aggregate functions to perform calculations on groups of rows rather than on individual rows."
   ]
  },
  {
   "cell_type": "code",
   "execution_count": null,
   "metadata": {},
   "outputs": [],
   "source": [
    "# Find the average Stars of each season, hint: you need to use grouping for this\n",
    "\n",
    "query = \"\"\"\n",
    "### ENTER YOUR SQL QUERY HERE\n",
    "\"\"\"\n",
    "\n",
    "pysqldf(query)"
   ]
  },
  {
   "cell_type": "markdown",
   "metadata": {},
   "source": [
    "#### Answer\n",
    "```sql\n",
    "SELECT season, AVG(stars) as average_rating\n",
    "FROM friends\n",
    "GROUP BY season\n",
    "ORDER BY average_rating DESC\n",
    "```\n",
    "Q: What would happen if I did `SELECT *` here instead?"
   ]
  }
 ],
 "metadata": {
  "kernelspec": {
   "display_name": "Python 3",
   "language": "python",
   "name": "python3"
  },
  "language_info": {
   "codemirror_mode": {
    "name": "ipython",
    "version": 3
   },
   "file_extension": ".py",
   "mimetype": "text/x-python",
   "name": "python",
   "nbconvert_exporter": "python",
   "pygments_lexer": "ipython3",
   "version": "3.10.7"
  }
 },
 "nbformat": 4,
 "nbformat_minor": 2
}
